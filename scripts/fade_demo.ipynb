{
 "cells": [
  {
   "cell_type": "code",
   "execution_count": 4,
   "id": "c866eb80-0c60-4ed4-a553-72a865cce34d",
   "metadata": {},
   "outputs": [
    {
     "name": "stdout",
     "output_type": "stream",
     "text": [
      "DuckDB version: 1.3.0\n",
      "Python path: /Users/haneenmo/Work/provweek_demo/venv/bin/python\n",
      "JupyterLab version: 4.4.3\n",
      "Plotly version: 5.18.0\n",
      "ipywidgets version: 8.1.7\n"
     ]
    },
    {
     "data": {
      "application/vnd.jupyter.widget-view+json": {
       "model_id": "15fad88c06254ac882f6fa84ff3769eb",
       "version_major": 2,
       "version_minor": 0
      },
      "text/plain": [
       "Button(description='Test button', style=ButtonStyle())"
      ]
     },
     "execution_count": 4,
     "metadata": {},
     "output_type": "execute_result"
    }
   ],
   "source": [
    "# pip install plotly==5.18.0 ipywidgets\n",
    "import plotly.graph_objects as go\n",
    "from IPython.display import display\n",
    "import ipywidgets as widgets\n",
    "import jupyterlab\n",
    "import plotly\n",
    "import ipywidgets\n",
    "\n",
    "import duckdb;\n",
    "import pandas as pd\n",
    "import numpy as np\n",
    "\n",
    "import time\n",
    "import sys\n",
    "\n",
    "print(\"DuckDB version:\", duckdb.__version__) # 1.3.0\n",
    "print(\"Python path:\", sys.executable) # venv/bin/python\n",
    "print(\"JupyterLab version:\", jupyterlab.__version__) #  4.4.3\n",
    "print(\"Plotly version:\", plotly.__version__) #  5.18.0\n",
    "print(\"ipywidgets version:\", ipywidgets.__version__) #8.1.7\n",
    "widgets.Button(description=\"Test button\")"
   ]
  },
  {
   "cell_type": "code",
   "execution_count": 22,
   "id": "b9d59e49-0f91-4075-8cf2-d6e9fdbd0d15",
   "metadata": {},
   "outputs": [
    {
     "name": "stdout",
     "output_type": "stream",
     "text": [
      "Downloading extension... /Users/haneenmo/.duckdb/extensions/v1.3.0/osx_amd64/\n"
     ]
    }
   ],
   "source": [
    "################################\n",
    "# Step 1. download duckdb extention\n",
    "################################\n",
    "\n",
    "import requests\n",
    "import zipfile\n",
    "import os\n",
    "import io\n",
    "\n",
    "# URL to your zip asset\n",
    "url = \"https://github.com/haneensa/fade/releases/download/v0.1.0/fade-v1.3.0-extension-osx_amd64.zip\"\n",
    "\n",
    "# Target directory for extracted extension\n",
    "ext_dir = os.path.expanduser(\"~/.duckdb/extensions/v1.3.0/osx_amd64/\")\n",
    "os.makedirs(ext_dir, exist_ok=True)\n",
    "\n",
    "# Download and unzip the extension\n",
    "print(\"Downloading extension...\", ext_dir)\n",
    "response = requests.get(url)\n",
    "with zipfile.ZipFile(io.BytesIO(response.content)) as z:\n",
    "    z.extractall(ext_dir)\n",
    "\n",
    "# Ensure the file is named correctly\n",
    "extracted_path = os.path.join(ext_dir, \"fade.duckdb_extension\") "
   ]
  },
  {
   "cell_type": "code",
   "execution_count": null,
   "id": "fca7d768-326f-480f-9aaa-1c4e45d9e7e1",
   "metadata": {},
   "outputs": [],
   "source": []
  },
  {
   "cell_type": "code",
   "execution_count": 23,
   "id": "a1a43c4c-9c75-434c-aa26-cf9ff3ba5222",
   "metadata": {},
   "outputs": [],
   "source": [
    "def run_with_lineage(sql):\n",
    "    con.execute(\"PRAGMA clear_lineage;\")\n",
    "    con.execute(\"PRAGMA threads=1\")\n",
    "    con.execute(\"PRAGMA set_debug_lineage(false);\").df()\n",
    "    con.execute(\"PRAGMA set_lineage(true);\")\n",
    "    start = time.time()\n",
    "    out = con.execute(sql).df()\n",
    "    end = time.time()\n",
    "    con.execute(\"PRAGMA set_lineage(false);\")\n",
    "    print(end-start)\n",
    "    return out"
   ]
  },
  {
   "cell_type": "code",
   "execution_count": 24,
   "id": "6a405f96-a7dc-4b72-9d48-6ca40a9672ad",
   "metadata": {},
   "outputs": [
    {
     "name": "stdout",
     "output_type": "stream",
     "text": [
      "Extension loaded successfully!\n"
     ]
    },
    {
     "data": {
      "text/plain": [
       "<duckdb.duckdb.DuckDBPyConnection at 0x1248382f0>"
      ]
     },
     "execution_count": 24,
     "metadata": {},
     "output_type": "execute_result"
    }
   ],
   "source": [
    "################################\n",
    "# Step 2. load fade extention\n",
    "################################\n",
    "con = duckdb.connect(config={'allow_unsigned_extensions': True})\n",
    "#con.execute(\"LOAD fade\")\n",
    "con.execute(\"LOAD '../../fade/build/release/repository/v1.3.0/osx_amd64/fade.duckdb_extension'\")\n",
    "\n",
    "print(\"Extension loaded successfully!\")\n",
    "\n",
    "################################\n",
    "# Step 3. setup Intel, tpch workload\n",
    "################################def load_intel_db(con):\n",
    "con.execute(\"\"\"DROP TABLE IF EXISTS readings;\"\"\")\n",
    "create_sql = \"\"\"CREATE TABLE readings as SELECT * FROM '../data/intel.csv'\"\"\"\n",
    "con.execute(create_sql)\n",
    "# hack since we don't have guards for null values\n",
    "con.execute(\"\"\"UPDATE readings SET temp = COALESCE(temp, 0);\"\"\")\n",
    "con.execute(\"\"\"UPDATE readings SET light = COALESCE(light, 0);\"\"\")\n",
    "con.execute(\"\"\"UPDATE readings SET voltage = COALESCE(voltage, 0);\"\"\")\n",
    "con.execute(\"\"\"UPDATE readings SET humidity = COALESCE(humidity, 0);\"\"\")\n",
    "\n",
    "con.execute(\"\"\"UPDATE readings SET moteid = COALESCE(moteid, -1);\"\"\")"
   ]
  },
  {
   "cell_type": "code",
   "execution_count": 17,
   "id": "15dbbac9-6b7d-4675-9d9d-5c82abcb1a75",
   "metadata": {},
   "outputs": [],
   "source": [
    "################################\n",
    "# Step 4. prep annotations\n",
    "################################\n",
    "\n",
    "#con.execute(f\"PRAGMA prepare_interventions(spec_list)\")"
   ]
  },
  {
   "cell_type": "code",
   "execution_count": 25,
   "id": "a456bf11-468a-442d-bbda-0e32a668a5d7",
   "metadata": {},
   "outputs": [
    {
     "name": "stdout",
     "output_type": "stream",
     "text": [
      "Fade extension loaded successfully.\n",
      "final rowid: 3\n",
      "0.14225292205810547\n",
      "query id: 0\n",
      "PRAGMA prepapre_lineage: 0\n"
     ]
    },
    {
     "data": {
      "text/plain": [
       "<duckdb.duckdb.DuckDBPyConnection at 0x1248382f0>"
      ]
     },
     "execution_count": 25,
     "metadata": {},
     "output_type": "execute_result"
    }
   ],
   "source": [
    "################################\n",
    "# Step 5 run query with lineage capture\n",
    "################################\n",
    "sql = \"SELECT hrint, stddev(temp) as agg0, avg(temp) as agg1  FROM readings AS readings GROUP BY hrint order by hrint\"\n",
    "sensors_aggs = run_with_lineage(sql)\n",
    "query_id = 0 #con.execute(\"select * from pragma_latest_qid()\").df()['query_id'][0] \n",
    "print(f\"query id: {query_id}\")\n",
    "con.execute(f\"PRAGMA prepare_lineage({query_id})\")"
   ]
  },
  {
   "cell_type": "code",
   "execution_count": 19,
   "id": "ad928f1a-9c12-4dc5-b7ce-ac8c028a6ba8",
   "metadata": {},
   "outputs": [
    {
     "data": {
      "application/vnd.jupyter.widget-view+json": {
       "model_id": "ed555b33d7074bdc9a7f35f870992439",
       "version_major": 2,
       "version_minor": 0
      },
      "text/plain": [
       "HBox(children=(Button(button_style='success', description='Set mode: GOOD (green)', style=ButtonStyle()), Butt…"
      ]
     },
     "metadata": {},
     "output_type": "display_data"
    },
    {
     "data": {
      "application/vnd.jupyter.widget-view+json": {
       "model_id": "326313885d0f444f9be7f8a0d01ae028",
       "version_major": 2,
       "version_minor": 0
      },
      "text/plain": [
       "HBox(children=(FigureWidget({\n",
       "    'data': [{'marker': {'color': [gray, gray, gray, ..., gray, gray, gray],\n",
       "   …"
      ]
     },
     "metadata": {},
     "output_type": "display_data"
    }
   ],
   "source": [
    "################################\n",
    "# Step 6 interactive scatter plot \n",
    "################################\n",
    "\n",
    "# State dictionaries keyed by plot name\n",
    "good_points = {'agg0': set(), 'agg1': set()}\n",
    "bad_points = {'agg0': set(), 'agg1': set()}\n",
    "temp_selection = {'agg0': set(), 'agg1': set()}\n",
    "\n",
    "selection_mode = {\"mode\": \"good\"}  # global selection mode\n",
    "\n",
    "\n",
    "def get_color(i, plot_name):\n",
    "    if i in good_points[plot_name]:\n",
    "        return 'green'\n",
    "    elif i in bad_points[plot_name]:\n",
    "        return 'red'\n",
    "    elif i in temp_selection[plot_name]:\n",
    "        return 'yellow'\n",
    "    else:\n",
    "        return 'gray'\n",
    "\n",
    "\n",
    "def create_figure(plot_name, x_col, y_col):\n",
    "    colors = [get_color(i, plot_name) for i in range(len(sensors_aggs))]\n",
    "    fig = go.FigureWidget(data=[go.Scatter(\n",
    "        x=sensors_aggs[x_col],\n",
    "        y=sensors_aggs[y_col],\n",
    "        mode='markers',\n",
    "        marker=dict(color=colors, size=10)\n",
    "    )])\n",
    "    fig.update_layout(title=f\"{plot_name}: {y_col} vs {x_col}\", dragmode='lasso')\n",
    "    return fig\n",
    "\n",
    "\n",
    "fig_agg0 = create_figure('agg0', 'hrint', 'agg0')\n",
    "fig_agg1 = create_figure('agg1', 'hrint', 'agg1')\n",
    "\n",
    "\n",
    "def update_colors(plot_name, scatter):\n",
    "    scatter.marker.color = [get_color(i, plot_name) for i in range(len(sensors_aggs))]\n",
    "\n",
    "\n",
    "def on_selection_factory(plot_name, scatter):\n",
    "    def on_selection(trace, points, selector):\n",
    "        temp_selection[plot_name] = set(points.point_inds)\n",
    "        update_colors(plot_name, scatter)\n",
    "        print(f\"{plot_name}: Temporarily selected points indices: {sorted(temp_selection[plot_name])}\")\n",
    "    return on_selection\n",
    "\n",
    "\n",
    "fig_agg0.data[0].on_selection(on_selection_factory('agg0', fig_agg0.data[0]))\n",
    "fig_agg1.data[0].on_selection(on_selection_factory('agg1', fig_agg1.data[0]))\n",
    "\n",
    "\n",
    "# Mode buttons\n",
    "def set_good(_):\n",
    "    selection_mode[\"mode\"] = \"good\"\n",
    "    print(\"Selection mode: GOOD (green)\")\n",
    "\n",
    "\n",
    "def set_bad(_):\n",
    "    selection_mode[\"mode\"] = \"bad\"\n",
    "    print(\"Selection mode: BAD (red)\")\n",
    "\n",
    "\n",
    "btn_good = widgets.Button(description=\"Set mode: GOOD (green)\", button_style='success')\n",
    "btn_good.on_click(set_good)\n",
    "\n",
    "btn_bad = widgets.Button(description=\"Set mode: BAD (red)\", button_style='danger')\n",
    "btn_bad.on_click(set_bad)\n",
    "\n",
    "\n",
    "# Submit selection for both plots (you can modify if you want separate submit buttons)\n",
    "def submit_selection(_):\n",
    "    for plot_name, fig in [('agg0', fig_agg0), ('agg1', fig_agg1)]:\n",
    "        if not temp_selection[plot_name]:\n",
    "            print(f\"{plot_name}: No points selected to submit.\")\n",
    "            continue\n",
    "\n",
    "        if selection_mode[\"mode\"] == \"good\":\n",
    "            good_points[plot_name].update(temp_selection[plot_name])\n",
    "            bad_points[plot_name].difference_update(temp_selection[plot_name])\n",
    "            print(f\"{plot_name}: Added {len(temp_selection[plot_name])} points to GOOD set.\")\n",
    "        else:\n",
    "            bad_points[plot_name].update(temp_selection[plot_name])\n",
    "            good_points[plot_name].difference_update(temp_selection[plot_name])\n",
    "            print(f\"{plot_name}: Added {len(temp_selection[plot_name])} points to BAD set.\")\n",
    "\n",
    "        temp_selection[plot_name] = set()\n",
    "        update_colors(plot_name, fig.data[0])\n",
    "\n",
    "\n",
    "btn_submit = widgets.Button(description=\"Submit selection\", button_style='primary')\n",
    "btn_submit.on_click(submit_selection)\n",
    "\n",
    "\n",
    "# Clear all selections and reset sets\n",
    "def clear_selection(_):\n",
    "    for plot_name in ['agg0', 'agg1']:\n",
    "        temp_selection[plot_name] = set()\n",
    "        good_points[plot_name] = set()\n",
    "        bad_points[plot_name] = set()\n",
    "        update_colors(plot_name, fig_agg0.data[0] if plot_name == 'agg0' else fig_agg1.data[0])\n",
    "    print(\"All selections cleared.\")\n",
    "\n",
    "\n",
    "btn_clear = widgets.Button(description=\"Clear all selections\", button_style='warning')\n",
    "btn_clear.on_click(clear_selection)\n",
    "\n",
    "\n",
    "# Display buttons and plots side by side\n",
    "buttons = widgets.HBox([btn_good, btn_bad, btn_submit, btn_clear])\n",
    "plots = widgets.HBox([fig_agg0, fig_agg1])\n",
    "\n",
    "display(buttons)\n",
    "display(plots)"
   ]
  },
  {
   "cell_type": "code",
   "execution_count": 26,
   "id": "58c9ddd6-fd5a-4f38-aa77-6eb4f5bcaf35",
   "metadata": {},
   "outputs": [
    {
     "name": "stdout",
     "output_type": "stream",
     "text": [
      "[165, 166, 167, 168, 169, 170, 171, 172, 173, 174, 175, 182, 183, 184] [245, 246, 247, 248, 251]\n",
      "PRAGMA whatif(0, 0, [165, 166, 167, 168, 169, 170, 171, 172, 173, 174, 175, 182, 183, 184, 245, 246, 247, 248, 251], ['readings.moteid'])\n",
      "Whatif(qid:0,n_specs:1,agg_idx:0,ngroups:19)\n",
      "parse: readings.moteid\n",
      "read_annotations\n",
      "SELECT \n",
      "CAST( DENSE_RANK() OVER (ORDER BY moteid) AS INTEGER ) - 1 AS moteid_int\n",
      "FROM readings ORDER BY rowid;\n",
      "query: SELECT \n",
      "COUNT(DISTINCT  moteid) \n",
      "FROM readings;\n",
      "moteid 0 1304441\n",
      "AdjustOutputIds order by 0\n",
      "after AdjustOutputIds order by 337\n",
      "readings.moteid\n",
      "readings base moteid 1304441\n",
      "output opid: 0\n",
      "done\n",
      "stddev: 0 288 82669.9 3974 1.72067e+06\n",
      "stddev: 1 289 82345.6 4025 1.68557e+06\n",
      "stddev: 2 290 80867.3 3995 1.6378e+06\n",
      "stddev: 3 291 80133.2 4056 1.58428e+06\n",
      "stddev: 4 292 78233.8 4049 1.51272e+06\n",
      "stddev: 5 293 77462.2 4052 1.48197e+06\n",
      "stddev: 6 294 76108.3 4006 1.44701e+06\n",
      "stddev: 7 295 74133.9 3926 1.40096e+06\n",
      "stddev: 8 296 74638.3 3996 1.39531e+06\n",
      "stddev: 9 297 73024 3965 1.34613e+06\n",
      "stddev: 10 298 74600.2 3953 1.41085e+06\n",
      "stddev: 11 305 107887 4039 2.89474e+06\n",
      "stddev: 12 306 107783 4021 2.90073e+06\n",
      "stddev: 13 307 103270 3991 2.68215e+06\n",
      "stddev: 14 33 91364.1 3915 2.86338e+06\n",
      "stddev: 15 34 92136.9 3946 2.94903e+06\n",
      "stddev: 16 35 98249.6 3928 3.29984e+06\n",
      "stddev: 17 36 99204.9 3907 3.30921e+06\n",
      "stddev: 18 39 101270 3981 3.4123e+06\n",
      "   pid     score\n",
      "0   18  1.895276\n",
      "1   16 -0.107523\n",
      "2   15 -0.127061\n",
      "SELECT DISTINCT v FROM (SELECT CAST( DENSE_RANK() OVER (ORDER BY moteid) AS INTEGER ) - 1 AS k, moteid as v FROM readings order by rowid) as t ORDER BY k\n",
      "v\t\n",
      "BIGINT\t\n",
      "[ Rows: 59]\n",
      "-1\n",
      "1\n",
      "2\n",
      "3\n",
      "4\n",
      "5\n",
      "6\n",
      "7\n",
      "8\n",
      "9\n",
      "10\n",
      "11\n",
      "12\n",
      "13\n",
      "14\n",
      "15\n",
      "16\n",
      "17\n",
      "18\n",
      "19\n",
      "20\n",
      "21\n",
      "22\n",
      "23\n",
      "24\n",
      "25\n",
      "26\n",
      "27\n",
      "28\n",
      "29\n",
      "30\n",
      "31\n",
      "32\n",
      "33\n",
      "34\n",
      "35\n",
      "36\n",
      "37\n",
      "38\n",
      "39\n",
      "40\n",
      "41\n",
      "42\n",
      "43\n",
      "44\n",
      "45\n",
      "46\n",
      "47\n",
      "48\n",
      "49\n",
      "50\n",
      "51\n",
      "52\n",
      "53\n",
      "54\n",
      "55\n",
      "57\n",
      "33117\n",
      "65407\n",
      "\n",
      "\n",
      "specs_stack: \n",
      "0readings.moteid\n",
      "readings.moteid=18\n",
      "specs_stack: \n",
      "0readings.moteid\n",
      "readings.moteid=16\n",
      "specs_stack: \n",
      "0readings.moteid\n",
      "readings.moteid=15\n"
     ]
    }
   ],
   "source": [
    "################################\n",
    "# Step 7 get selected points and run fade\n",
    "################################\n",
    "agg_alias = 'agg0'\n",
    "goodids = [165, 166, 167, 168, 169, 170, 171, 172, 173, 174, 175, 182, 183, 184] # list(good_points[agg_alias])\n",
    "badids = [245, 246, 247, 248, 251] #list(bad_points[agg_alias])\n",
    "print(goodids, badids)\n",
    "agg_idx = 0\n",
    "allids = goodids + badids\n",
    "is_equal = True\n",
    "\n",
    "spec_list =  ['readings.moteid']\n",
    "#spec_list =  ['readings.moteid', 'readings.voltage']\n",
    "q = f\"PRAGMA whatif({query_id}, {agg_idx}, {allids}, {spec_list})\"\n",
    "print(q)\n",
    "start = time.time()\n",
    "con.execute(q)\n",
    "end = time.time()\n",
    "faderes = con.execute(\"select * from fade_reader(0);\").df()\n",
    "goodvals = sensors_aggs.loc[goodids, agg_alias]\n",
    "badvals = sensors_aggs.loc[badids, agg_alias]\n",
    "\n",
    "mg, mb = np.mean(goodvals), np.mean(badvals)\n",
    "ng, nb = len(goodvals), len(badvals)\n",
    "goodids = [f\"g{id}\" for id in range(len(goodids))]\n",
    "badids = [f\"g{id + len(goodids)}\" for id in range(len(badids))]\n",
    "ges = [f\"abs({id}-{val})**0.5\" for id, val in zip(goodids, goodvals)]\n",
    "bes = [f\"coalesce(({val}-{id}),0)**2\" for id, val in zip(badids, badvals)]\n",
    "fade_q = f\"\"\"\n",
    "    WITH good AS (\n",
    "        SELECT pid, unnest([{','.join(ges)}]) as y\n",
    "        FROM faderes\n",
    "    ), bad AS (\n",
    "        SELECT pid, unnest([{','.join(bes)}]) as y\n",
    "        FROM faderes\n",
    "    ), good2 AS (\n",
    "        SELECT pid, max(y) as y\n",
    "        FROM good\n",
    "        GROUP BY pid\n",
    "    ), bad2 AS (\n",
    "        SELECT pid, \n",
    "        median(y) AS y50,\n",
    "        avg(y) AS avgy,\n",
    "        min(y) as miny, max(y) as maxy\n",
    "        FROM bad\n",
    "        GROUP BY pid\n",
    "    ), scorpion AS (\n",
    "        SELECT g.pid, y50/{mb}/{nb} - g.y/{mg} as score\n",
    "        FROM good2 as g, bad2 as b\n",
    "        WHERE g.pid = b.pid\n",
    "    )\n",
    "    SELECT * from scorpion ORDER BY score desc LIMIT 3\n",
    "    \"\"\"\n",
    "faderesults = con.execute(fade_q).fetchdf()\n",
    "print(faderesults)\n",
    "results = []\n",
    "for i in range(3):\n",
    "    score = float(faderesults['score'][i])\n",
    "    pid = faderesults['pid'][i]\n",
    "    q = f\"select * from get_predicate({pid});\"\n",
    "    predicate = con.execute(q).fetchdf().iloc[0,0]\n",
    "    print(predicate)\n",
    "    predicate = predicate.replace(\"_\", \".\")\n",
    "    clauses = [p.strip() for p in predicate.split(\"AND\")]\n",
    "    results.append(dict(score=score, clauses=clauses))\n"
   ]
  },
  {
   "cell_type": "code",
   "execution_count": 190,
   "id": "559a492e-2806-4bd8-8347-163b177f414d",
   "metadata": {},
   "outputs": [
    {
     "data": {
      "application/vnd.plotly.v1+json": {
       "config": {
        "plotlyServerURL": "https://plot.ly"
       },
       "data": [
        {
         "mode": "markers",
         "name": "not (readings.voltage=2.32 AND readings.moteid=18) -- score: -0.07865115162249187",
         "type": "scatter",
         "x": [
          763200,
          766800,
          770400,
          774000,
          777600,
          781200,
          784800,
          788400,
          792000,
          795600,
          799200,
          802800,
          806400,
          810000,
          813600,
          817200,
          820800,
          824400,
          828000,
          831600,
          835200,
          838800,
          842400,
          846000,
          849600,
          853200,
          856800,
          860400,
          864000,
          867600,
          871200,
          874800,
          878400,
          882000,
          885600,
          889200,
          892800,
          896400,
          900000,
          903600,
          907200,
          910800,
          914400,
          918000,
          921600,
          925200,
          928800,
          932400,
          936000,
          939600,
          943200,
          946800,
          950400,
          954000,
          957600,
          961200,
          964800,
          968400,
          972000,
          975600,
          979200,
          982800,
          1098000,
          1101600,
          1105200,
          1108800,
          1112400,
          1116000,
          1119600,
          1123200,
          1126800,
          1130400,
          1134000,
          1137600,
          1141200,
          1144800,
          1148400,
          1152000,
          1155600,
          1159200,
          1162800,
          1166400,
          1170000,
          1173600,
          1177200,
          1180800,
          1184400,
          1188000,
          1191600,
          1195200,
          1198800,
          1202400,
          1206000,
          1209600,
          1213200,
          1216800,
          1220400,
          1224000,
          1227600,
          1231200,
          1234800,
          1238400,
          1242000,
          1245600,
          1249200,
          1252800,
          1256400,
          1260000,
          1263600,
          1267200,
          1270800,
          1274400,
          1278000,
          1281600,
          1285200,
          1288800,
          1292400,
          295200,
          3600,
          7200,
          10800,
          14400,
          18000,
          21600,
          25200,
          28800,
          36000,
          39600,
          43200,
          46800,
          50400,
          54000,
          57600,
          61200,
          64800,
          68400,
          72000,
          75600,
          1069200,
          1072800,
          79200,
          1076400,
          82800,
          1080000,
          86400,
          1083600,
          90000,
          1087200,
          93600,
          1090800,
          97200,
          1094400,
          100800,
          104400,
          108000,
          111600,
          115200,
          118800,
          122400,
          126000,
          129600,
          133200,
          136800,
          140400,
          144000,
          147600,
          151200,
          154800,
          158400,
          162000,
          165600,
          169200,
          172800,
          176400,
          180000,
          183600,
          187200,
          190800,
          194400,
          198000,
          201600,
          205200,
          208800,
          212400,
          216000,
          219600,
          223200,
          226800,
          230400,
          234000,
          237600,
          241200,
          244800,
          248400,
          252000,
          255600,
          259200,
          262800,
          266400,
          270000,
          273600,
          277200,
          280800,
          284400,
          288000,
          291600,
          298800,
          302400,
          306000,
          309600,
          313200,
          316800,
          320400,
          324000,
          327600,
          331200,
          334800,
          338400,
          342000,
          345600,
          349200,
          352800,
          356400,
          360000,
          363600,
          367200,
          370800,
          374400,
          378000,
          381600,
          385200,
          388800,
          392400,
          396000,
          399600,
          403200,
          406800,
          410400,
          414000,
          417600,
          421200,
          424800,
          428400,
          432000,
          435600,
          439200,
          442800,
          446400,
          450000,
          453600,
          457200,
          460800,
          464400,
          468000,
          471600,
          475200,
          478800,
          482400,
          486000,
          489600,
          493200,
          496800,
          500400,
          504000,
          507600,
          511200,
          514800,
          518400,
          522000,
          525600,
          529200,
          532800,
          536400,
          540000,
          543600,
          547200,
          550800,
          554400,
          558000,
          561600,
          565200,
          568800,
          572400,
          576000,
          579600,
          583200,
          586800,
          590400,
          594000,
          597600,
          601200,
          604800,
          608400,
          612000,
          615600,
          619200,
          622800,
          626400,
          630000,
          633600,
          637200,
          640800,
          644400,
          648000,
          651600,
          655200,
          658800,
          662400,
          666000,
          669600,
          673200,
          676800,
          680400,
          684000,
          687600,
          691200,
          694800,
          698400,
          702000,
          705600,
          709200,
          712800,
          716400,
          720000,
          723600,
          727200,
          730800,
          734400,
          738000,
          741600,
          745200,
          748800,
          752400,
          756000,
          759600,
          32400,
          0
         ],
         "y": [
          0.8558774229138716,
          0.7957722003062584,
          0.7393425131140692,
          0.7277709605705982,
          0.7115503037561518,
          0.6836167992047172,
          0.6880972986256713,
          0.7099376264619179,
          0.750052516025669,
          0.8194253900031775,
          0.8672364035289032,
          3.014720076478424,
          3.9794798698414287,
          4.471783383855965,
          4.208422113611067,
          3.174058585676625,
          3.1920653781562107,
          3.195209189954575,
          2.9620868191546923,
          2.8532172549660415,
          2.9095697934058773,
          2.891845646506207,
          3.11285299235546,
          2.8328501319658845,
          3.4431316200028466,
          4.247045472277412,
          4.7367966605942415,
          5.33690343642611,
          6.265483137534031,
          7.117612130086027,
          9.380297867111853,
          10.144669050099568,
          3.644704565583121,
          0.4528297795443075,
          0.44145381497397884,
          6.823322697890126,
          11.648526089192018,
          11.766920574248322,
          11.783980160160548,
          6.5880763197210745,
          2.5321706709283878,
          8.060142493661901,
          2.111349574794888,
          3.437965877212452,
          9.946952068503265,
          15.202570593458605,
          9.816530657499687,
          2.179115272347332,
          5.57955358358813,
          12.02033762894944,
          14.781599069702795,
          14.322487451908398,
          14.996116439333598,
          15.305187829127979,
          14.870884414740466,
          15.069196006766767,
          15.003148768485906,
          14.914480388043884,
          14.503906846257362,
          14.995791458509364,
          14.236885714381884,
          10.63136738937781,
          11.492402581811508,
          15.482284672542717,
          15.30700340980035,
          15.580569816643438,
          15.803217048330474,
          15.821439406049695,
          16.072484298855358,
          15.569602280101375,
          15.669419381216667,
          16.38399532494514,
          15.751624447148938,
          16.074519591089917,
          16.2916602137597,
          16.361653222519983,
          14.936664147158023,
          16.634111054579122,
          16.66655915589275,
          16.360778951877617,
          15.200833742313511,
          14.96319563492317,
          15.959230442853016,
          16.371297800744117,
          16.309451898697844,
          15.980324708995916,
          16.227235045676405,
          15.90090039420357,
          16.773233387024668,
          15.648707426508944,
          16.42309851801046,
          16.449547999061657,
          16.458636964051856,
          16.797924681207338,
          16.583049675184853,
          16.26214267116879,
          17.013955271425765,
          16.93997512238139,
          16.84310185473886,
          16.147246357867687,
          16.94097375850205,
          15.88665004302017,
          16.13663871089116,
          16.405861060902062,
          15.513444515971564,
          15.734259391075987,
          15.855793602974734,
          15.278325535273131,
          15.596239380224715,
          14.484377930875375,
          15.352240827089883,
          14.427888835174047,
          16.05726910180365,
          15.828693686798982,
          16.43830544413657,
          16.226680242427104,
          17.091051132969042,
          4.98695883990408,
          0.8290445015730488,
          0.902911809381293,
          0.9037330897585392,
          0.9202232877683072,
          0.9418881081667444,
          0.8826977318358833,
          1.1316701366243027,
          1.8960012905195989,
          2.3454496543655323,
          2.1336942529024365,
          1.8776039671010165,
          1.8138404833820088,
          1.2488005049157576,
          1.753637612023472,
          1.2787470080540757,
          0.519451527179741,
          0.5201779231957939,
          0.5485487933519899,
          0.6435685933993649,
          0.7761013700278673,
          5.93327181468542,
          7.492698761797676,
          0.7443532414669345,
          8.160825725475846,
          0.7347755438701649,
          8.209433835280166,
          0.7537599208339795,
          6.585386436508879,
          0.8003456890296383,
          7.33916047219881,
          0.7894428953211018,
          7.614307409371614,
          0.8095258113420754,
          8.070311958376454,
          0.8884900851771265,
          0.913763910851303,
          0.9210040890627981,
          0.8893272826612152,
          1.6353580487732218,
          1.601641814404966,
          1.4195778667174457,
          1.3796602780175617,
          1.102402254743113,
          0.9764753092944853,
          0.8458807478909773,
          0.668941040857473,
          0.5773870966880689,
          0.5846037083849158,
          0.5742232140722329,
          0.5885761824353949,
          0.6202746819375006,
          0.6263601636146396,
          0.7464986883987549,
          0.7809880523706466,
          0.6945598557577775,
          0.6675921595017712,
          0.7406371709684129,
          0.7715413004096381,
          0.7278308559622855,
          0.7957748739601161,
          0.8482006273926643,
          1.952675284509589,
          2.058766511529862,
          1.6013134022158773,
          1.5619072258234923,
          2.0429401316405134,
          2.4863288870038187,
          3.1619192941717373,
          3.3756397871277755,
          3.074183383369877,
          3.153523212002473,
          3.129483195131781,
          1.2827632049612048,
          0.653516991205816,
          0.7821703510537058,
          0.8442864702424803,
          0.919583235150058,
          0.9494562138096595,
          0.992747199783024,
          0.9170360670422486,
          0.886894739979173,
          0.9246729470339247,
          0.9345682776486534,
          0.9780287635923978,
          0.9850312947816744,
          6.446981732511107,
          8.694951822723027,
          9.738754398191315,
          5.153286162105681,
          4.172657364998516,
          11.266554223074108,
          2.3888636906282015,
          3.7771941843537546,
          1.690661215119433,
          1.2659539645480102,
          0.8962126951323383,
          0.6885514406906961,
          0.6603075758293946,
          0.644378718602045,
          0.8176349536767132,
          0.6429755755338583,
          0.6180800304392833,
          0.6561849725058914,
          0.7534049406555935,
          0.6942402677442062,
          0.7842087482092093,
          0.6410841136039475,
          0.6055668771826306,
          2.6148433192399883,
          2.8353895159694855,
          3.7937617403202353,
          4.127397835053812,
          4.1350303457386435,
          9.003276632293101,
          8.898252090211528,
          8.212492638218878,
          11.114570461040092,
          11.910108862942899,
          9.951027224275999,
          1.3558116103645323,
          0.7578582810266801,
          3.2791980921508554,
          1.3407426696862808,
          0.85962677395064,
          1.1389889767266275,
          0.9921045719280421,
          1.0044555859650994,
          0.9452085079517387,
          0.9242047729355459,
          0.9418102708013616,
          0.9314392931513442,
          0.9470187761028519,
          2.39865222164801,
          2.7247048435641807,
          3.775335889107591,
          4.157114654629559,
          4.55616971933642,
          4.674838596926064,
          4.5773782838280495,
          2.517889749442326,
          1.8400711352777837,
          1.4326301928580947,
          1.2494172803033523,
          0.7351023663495859,
          0.6374596157656043,
          0.7418805863045527,
          0.6996059252076476,
          0.6643525433670259,
          0.6786083250749003,
          0.6694258029460592,
          0.6002858314025017,
          0.6216073949378185,
          0.687190184636051,
          0.6969124177484813,
          0.6347614826417978,
          0.5688801530838851,
          3.0491760452369756,
          5.78036544841892,
          3.770413917793256,
          3.7537555289465354,
          2.5684454026119448,
          2.0655015054258934,
          2.4535294045263742,
          1.8493273282293405,
          1.5197497856200568,
          1.3504427262403849,
          1.1194020974763217,
          0.6090020330200189,
          0.5069987062487948,
          0.4753606226502226,
          0.4786098242254226,
          0.4738091960637289,
          0.4687386305679688,
          0.5245368061244348,
          0.5203254135903748,
          0.5264920687146203,
          0.5175308857922519,
          0.5278374829285045,
          0.5471186358594773,
          0.558386988621211,
          0.8727371972305031,
          1.764016264255292,
          2.09064406895613,
          2.4038032833689376,
          2.584557801629398,
          2.5903622064266547,
          2.264315914370514,
          1.7895817788088342,
          1.6982203652335095,
          1.5801585184080553,
          1.6024736631515941,
          0.9073007462319682,
          0.710670365900987,
          0.6503135207090796,
          0.6421245485857179,
          0.6158228844793536,
          0.7002273122429767,
          0.5879676979479374,
          0.5933961117286229,
          0.608421035210184,
          0.6220419125716123,
          0.6453529149448086,
          0.6654323433426944,
          0.6680847654860281,
          0.9790086701072176,
          1.8010019865267064,
          2.3362704860284658,
          2.5547581625306353,
          2.70116876159246,
          2.771526931257832,
          2.55674785467221,
          2.2245194949673714,
          2.1107732100138095,
          2.272468409564265,
          2.035517886294024,
          1.2274122758164643,
          0.9513739273459721,
          2.3329260205306284,
          3.5146809915121415
         ]
        }
       ],
       "layout": {
        "autosize": true,
        "template": {
         "data": {
          "bar": [
           {
            "error_x": {
             "color": "#2a3f5f"
            },
            "error_y": {
             "color": "#2a3f5f"
            },
            "marker": {
             "line": {
              "color": "#E5ECF6",
              "width": 0.5
             },
             "pattern": {
              "fillmode": "overlay",
              "size": 10,
              "solidity": 0.2
             }
            },
            "type": "bar"
           }
          ],
          "barpolar": [
           {
            "marker": {
             "line": {
              "color": "#E5ECF6",
              "width": 0.5
             },
             "pattern": {
              "fillmode": "overlay",
              "size": 10,
              "solidity": 0.2
             }
            },
            "type": "barpolar"
           }
          ],
          "carpet": [
           {
            "aaxis": {
             "endlinecolor": "#2a3f5f",
             "gridcolor": "white",
             "linecolor": "white",
             "minorgridcolor": "white",
             "startlinecolor": "#2a3f5f"
            },
            "baxis": {
             "endlinecolor": "#2a3f5f",
             "gridcolor": "white",
             "linecolor": "white",
             "minorgridcolor": "white",
             "startlinecolor": "#2a3f5f"
            },
            "type": "carpet"
           }
          ],
          "choropleth": [
           {
            "colorbar": {
             "outlinewidth": 0,
             "ticks": ""
            },
            "type": "choropleth"
           }
          ],
          "contour": [
           {
            "colorbar": {
             "outlinewidth": 0,
             "ticks": ""
            },
            "colorscale": [
             [
              0,
              "#0d0887"
             ],
             [
              0.1111111111111111,
              "#46039f"
             ],
             [
              0.2222222222222222,
              "#7201a8"
             ],
             [
              0.3333333333333333,
              "#9c179e"
             ],
             [
              0.4444444444444444,
              "#bd3786"
             ],
             [
              0.5555555555555556,
              "#d8576b"
             ],
             [
              0.6666666666666666,
              "#ed7953"
             ],
             [
              0.7777777777777778,
              "#fb9f3a"
             ],
             [
              0.8888888888888888,
              "#fdca26"
             ],
             [
              1,
              "#f0f921"
             ]
            ],
            "type": "contour"
           }
          ],
          "contourcarpet": [
           {
            "colorbar": {
             "outlinewidth": 0,
             "ticks": ""
            },
            "type": "contourcarpet"
           }
          ],
          "heatmap": [
           {
            "colorbar": {
             "outlinewidth": 0,
             "ticks": ""
            },
            "colorscale": [
             [
              0,
              "#0d0887"
             ],
             [
              0.1111111111111111,
              "#46039f"
             ],
             [
              0.2222222222222222,
              "#7201a8"
             ],
             [
              0.3333333333333333,
              "#9c179e"
             ],
             [
              0.4444444444444444,
              "#bd3786"
             ],
             [
              0.5555555555555556,
              "#d8576b"
             ],
             [
              0.6666666666666666,
              "#ed7953"
             ],
             [
              0.7777777777777778,
              "#fb9f3a"
             ],
             [
              0.8888888888888888,
              "#fdca26"
             ],
             [
              1,
              "#f0f921"
             ]
            ],
            "type": "heatmap"
           }
          ],
          "heatmapgl": [
           {
            "colorbar": {
             "outlinewidth": 0,
             "ticks": ""
            },
            "colorscale": [
             [
              0,
              "#0d0887"
             ],
             [
              0.1111111111111111,
              "#46039f"
             ],
             [
              0.2222222222222222,
              "#7201a8"
             ],
             [
              0.3333333333333333,
              "#9c179e"
             ],
             [
              0.4444444444444444,
              "#bd3786"
             ],
             [
              0.5555555555555556,
              "#d8576b"
             ],
             [
              0.6666666666666666,
              "#ed7953"
             ],
             [
              0.7777777777777778,
              "#fb9f3a"
             ],
             [
              0.8888888888888888,
              "#fdca26"
             ],
             [
              1,
              "#f0f921"
             ]
            ],
            "type": "heatmapgl"
           }
          ],
          "histogram": [
           {
            "marker": {
             "pattern": {
              "fillmode": "overlay",
              "size": 10,
              "solidity": 0.2
             }
            },
            "type": "histogram"
           }
          ],
          "histogram2d": [
           {
            "colorbar": {
             "outlinewidth": 0,
             "ticks": ""
            },
            "colorscale": [
             [
              0,
              "#0d0887"
             ],
             [
              0.1111111111111111,
              "#46039f"
             ],
             [
              0.2222222222222222,
              "#7201a8"
             ],
             [
              0.3333333333333333,
              "#9c179e"
             ],
             [
              0.4444444444444444,
              "#bd3786"
             ],
             [
              0.5555555555555556,
              "#d8576b"
             ],
             [
              0.6666666666666666,
              "#ed7953"
             ],
             [
              0.7777777777777778,
              "#fb9f3a"
             ],
             [
              0.8888888888888888,
              "#fdca26"
             ],
             [
              1,
              "#f0f921"
             ]
            ],
            "type": "histogram2d"
           }
          ],
          "histogram2dcontour": [
           {
            "colorbar": {
             "outlinewidth": 0,
             "ticks": ""
            },
            "colorscale": [
             [
              0,
              "#0d0887"
             ],
             [
              0.1111111111111111,
              "#46039f"
             ],
             [
              0.2222222222222222,
              "#7201a8"
             ],
             [
              0.3333333333333333,
              "#9c179e"
             ],
             [
              0.4444444444444444,
              "#bd3786"
             ],
             [
              0.5555555555555556,
              "#d8576b"
             ],
             [
              0.6666666666666666,
              "#ed7953"
             ],
             [
              0.7777777777777778,
              "#fb9f3a"
             ],
             [
              0.8888888888888888,
              "#fdca26"
             ],
             [
              1,
              "#f0f921"
             ]
            ],
            "type": "histogram2dcontour"
           }
          ],
          "mesh3d": [
           {
            "colorbar": {
             "outlinewidth": 0,
             "ticks": ""
            },
            "type": "mesh3d"
           }
          ],
          "parcoords": [
           {
            "line": {
             "colorbar": {
              "outlinewidth": 0,
              "ticks": ""
             }
            },
            "type": "parcoords"
           }
          ],
          "pie": [
           {
            "automargin": true,
            "type": "pie"
           }
          ],
          "scatter": [
           {
            "fillpattern": {
             "fillmode": "overlay",
             "size": 10,
             "solidity": 0.2
            },
            "type": "scatter"
           }
          ],
          "scatter3d": [
           {
            "line": {
             "colorbar": {
              "outlinewidth": 0,
              "ticks": ""
             }
            },
            "marker": {
             "colorbar": {
              "outlinewidth": 0,
              "ticks": ""
             }
            },
            "type": "scatter3d"
           }
          ],
          "scattercarpet": [
           {
            "marker": {
             "colorbar": {
              "outlinewidth": 0,
              "ticks": ""
             }
            },
            "type": "scattercarpet"
           }
          ],
          "scattergeo": [
           {
            "marker": {
             "colorbar": {
              "outlinewidth": 0,
              "ticks": ""
             }
            },
            "type": "scattergeo"
           }
          ],
          "scattergl": [
           {
            "marker": {
             "colorbar": {
              "outlinewidth": 0,
              "ticks": ""
             }
            },
            "type": "scattergl"
           }
          ],
          "scattermapbox": [
           {
            "marker": {
             "colorbar": {
              "outlinewidth": 0,
              "ticks": ""
             }
            },
            "type": "scattermapbox"
           }
          ],
          "scatterpolar": [
           {
            "marker": {
             "colorbar": {
              "outlinewidth": 0,
              "ticks": ""
             }
            },
            "type": "scatterpolar"
           }
          ],
          "scatterpolargl": [
           {
            "marker": {
             "colorbar": {
              "outlinewidth": 0,
              "ticks": ""
             }
            },
            "type": "scatterpolargl"
           }
          ],
          "scatterternary": [
           {
            "marker": {
             "colorbar": {
              "outlinewidth": 0,
              "ticks": ""
             }
            },
            "type": "scatterternary"
           }
          ],
          "surface": [
           {
            "colorbar": {
             "outlinewidth": 0,
             "ticks": ""
            },
            "colorscale": [
             [
              0,
              "#0d0887"
             ],
             [
              0.1111111111111111,
              "#46039f"
             ],
             [
              0.2222222222222222,
              "#7201a8"
             ],
             [
              0.3333333333333333,
              "#9c179e"
             ],
             [
              0.4444444444444444,
              "#bd3786"
             ],
             [
              0.5555555555555556,
              "#d8576b"
             ],
             [
              0.6666666666666666,
              "#ed7953"
             ],
             [
              0.7777777777777778,
              "#fb9f3a"
             ],
             [
              0.8888888888888888,
              "#fdca26"
             ],
             [
              1,
              "#f0f921"
             ]
            ],
            "type": "surface"
           }
          ],
          "table": [
           {
            "cells": {
             "fill": {
              "color": "#EBF0F8"
             },
             "line": {
              "color": "white"
             }
            },
            "header": {
             "fill": {
              "color": "#C8D4E3"
             },
             "line": {
              "color": "white"
             }
            },
            "type": "table"
           }
          ]
         },
         "layout": {
          "annotationdefaults": {
           "arrowcolor": "#2a3f5f",
           "arrowhead": 0,
           "arrowwidth": 1
          },
          "autotypenumbers": "strict",
          "coloraxis": {
           "colorbar": {
            "outlinewidth": 0,
            "ticks": ""
           }
          },
          "colorscale": {
           "diverging": [
            [
             0,
             "#8e0152"
            ],
            [
             0.1,
             "#c51b7d"
            ],
            [
             0.2,
             "#de77ae"
            ],
            [
             0.3,
             "#f1b6da"
            ],
            [
             0.4,
             "#fde0ef"
            ],
            [
             0.5,
             "#f7f7f7"
            ],
            [
             0.6,
             "#e6f5d0"
            ],
            [
             0.7,
             "#b8e186"
            ],
            [
             0.8,
             "#7fbc41"
            ],
            [
             0.9,
             "#4d9221"
            ],
            [
             1,
             "#276419"
            ]
           ],
           "sequential": [
            [
             0,
             "#0d0887"
            ],
            [
             0.1111111111111111,
             "#46039f"
            ],
            [
             0.2222222222222222,
             "#7201a8"
            ],
            [
             0.3333333333333333,
             "#9c179e"
            ],
            [
             0.4444444444444444,
             "#bd3786"
            ],
            [
             0.5555555555555556,
             "#d8576b"
            ],
            [
             0.6666666666666666,
             "#ed7953"
            ],
            [
             0.7777777777777778,
             "#fb9f3a"
            ],
            [
             0.8888888888888888,
             "#fdca26"
            ],
            [
             1,
             "#f0f921"
            ]
           ],
           "sequentialminus": [
            [
             0,
             "#0d0887"
            ],
            [
             0.1111111111111111,
             "#46039f"
            ],
            [
             0.2222222222222222,
             "#7201a8"
            ],
            [
             0.3333333333333333,
             "#9c179e"
            ],
            [
             0.4444444444444444,
             "#bd3786"
            ],
            [
             0.5555555555555556,
             "#d8576b"
            ],
            [
             0.6666666666666666,
             "#ed7953"
            ],
            [
             0.7777777777777778,
             "#fb9f3a"
            ],
            [
             0.8888888888888888,
             "#fdca26"
            ],
            [
             1,
             "#f0f921"
            ]
           ]
          },
          "colorway": [
           "#636efa",
           "#EF553B",
           "#00cc96",
           "#ab63fa",
           "#FFA15A",
           "#19d3f3",
           "#FF6692",
           "#B6E880",
           "#FF97FF",
           "#FECB52"
          ],
          "font": {
           "color": "#2a3f5f"
          },
          "geo": {
           "bgcolor": "white",
           "lakecolor": "white",
           "landcolor": "#E5ECF6",
           "showlakes": true,
           "showland": true,
           "subunitcolor": "white"
          },
          "hoverlabel": {
           "align": "left"
          },
          "hovermode": "closest",
          "mapbox": {
           "style": "light"
          },
          "paper_bgcolor": "white",
          "plot_bgcolor": "#E5ECF6",
          "polar": {
           "angularaxis": {
            "gridcolor": "white",
            "linecolor": "white",
            "ticks": ""
           },
           "bgcolor": "#E5ECF6",
           "radialaxis": {
            "gridcolor": "white",
            "linecolor": "white",
            "ticks": ""
           }
          },
          "scene": {
           "xaxis": {
            "backgroundcolor": "#E5ECF6",
            "gridcolor": "white",
            "gridwidth": 2,
            "linecolor": "white",
            "showbackground": true,
            "ticks": "",
            "zerolinecolor": "white"
           },
           "yaxis": {
            "backgroundcolor": "#E5ECF6",
            "gridcolor": "white",
            "gridwidth": 2,
            "linecolor": "white",
            "showbackground": true,
            "ticks": "",
            "zerolinecolor": "white"
           },
           "zaxis": {
            "backgroundcolor": "#E5ECF6",
            "gridcolor": "white",
            "gridwidth": 2,
            "linecolor": "white",
            "showbackground": true,
            "ticks": "",
            "zerolinecolor": "white"
           }
          },
          "shapedefaults": {
           "line": {
            "color": "#2a3f5f"
           }
          },
          "ternary": {
           "aaxis": {
            "gridcolor": "white",
            "linecolor": "white",
            "ticks": ""
           },
           "baxis": {
            "gridcolor": "white",
            "linecolor": "white",
            "ticks": ""
           },
           "bgcolor": "#E5ECF6",
           "caxis": {
            "gridcolor": "white",
            "linecolor": "white",
            "ticks": ""
           }
          },
          "title": {
           "x": 0.05
          },
          "xaxis": {
           "automargin": true,
           "gridcolor": "white",
           "linecolor": "white",
           "ticks": "",
           "title": {
            "standoff": 15
           },
           "zerolinecolor": "white",
           "zerolinewidth": 2
          },
          "yaxis": {
           "automargin": true,
           "gridcolor": "white",
           "linecolor": "white",
           "ticks": "",
           "title": {
            "standoff": 15
           },
           "zerolinecolor": "white",
           "zerolinewidth": 2
          }
         }
        },
        "title": {
         "text": "Stddev (agg0) for not (readings.voltage=2.32 AND readings.moteid=18) -- score: -0.07865115162249187 "
        },
        "xaxis": {
         "autorange": true,
         "range": [
          -82193.74638100756,
          1374593.7463810076
         ],
         "title": {
          "text": "hrint"
         },
         "type": "linear"
        },
        "yaxis": {
         "autorange": true,
         "range": [
          -0.932542080200371,
          18.465047028143392
         ],
         "title": {
          "text": "stddev (agg0)"
         },
         "type": "linear"
        }
       }
      },
      "image/png": "[encoded data removed]",
      "text/html": [
       "<div>                            <div id=\"e24295d2-c68d-40da-999b-709ef34aa890\" class=\"plotly-graph-div\" style=\"height:525px; width:100%;\"></div>            <script type=\"text/javascript\">                require([\"plotly\"], function(Plotly) {                    window.PLOTLYENV=window.PLOTLYENV || {};                                    if (document.getElementById(\"e24295d2-c68d-40da-999b-709ef34aa890\")) {                    Plotly.newPlot(                        \"e24295d2-c68d-40da-999b-709ef34aa890\",                        [{\"mode\":\"markers\",\"name\":\"not (readings.voltage=2.32 AND readings.moteid=18) -- score: -0.07865115162249187\",\"x\":[763200,766800,770400,774000,777600,781200,784800,788400,792000,795600,799200,802800,806400,810000,813600,817200,820800,824400,828000,831600,835200,838800,842400,846000,849600,853200,856800,860400,864000,867600,871200,874800,878400,882000,885600,889200,892800,896400,900000,903600,907200,910800,914400,918000,921600,925200,928800,932400,936000,939600,943200,946800,950400,954000,957600,961200,964800,968400,972000,975600,979200,982800,1098000,1101600,1105200,1108800,1112400,1116000,1119600,1123200,1126800,1130400,1134000,1137600,1141200,1144800,1148400,1152000,1155600,1159200,1162800,1166400,1170000,1173600,1177200,1180800,1184400,1188000,1191600,1195200,1198800,1202400,1206000,1209600,1213200,1216800,1220400,1224000,1227600,1231200,1234800,1238400,1242000,1245600,1249200,1252800,1256400,1260000,1263600,1267200,1270800,1274400,1278000,1281600,1285200,1288800,1292400,295200,3600,7200,10800,14400,18000,21600,25200,28800,36000,39600,43200,46800,50400,54000,57600,61200,64800,68400,72000,75600,1069200,1072800,79200,1076400,82800,1080000,86400,1083600,90000,1087200,93600,1090800,97200,1094400,100800,104400,108000,111600,115200,118800,122400,126000,129600,133200,136800,140400,144000,147600,151200,154800,158400,162000,165600,169200,172800,176400,180000,183600,187200,190800,194400,198000,201600,205200,208800,212400,216000,219600,223200,226800,230400,234000,237600,241200,244800,248400,252000,255600,259200,262800,266400,270000,273600,277200,280800,284400,288000,291600,298800,302400,306000,309600,313200,316800,320400,324000,327600,331200,334800,338400,342000,345600,349200,352800,356400,360000,363600,367200,370800,374400,378000,381600,385200,388800,392400,396000,399600,403200,406800,410400,414000,417600,421200,424800,428400,432000,435600,439200,442800,446400,450000,453600,457200,460800,464400,468000,471600,475200,478800,482400,486000,489600,493200,496800,500400,504000,507600,511200,514800,518400,522000,525600,529200,532800,536400,540000,543600,547200,550800,554400,558000,561600,565200,568800,572400,576000,579600,583200,586800,590400,594000,597600,601200,604800,608400,612000,615600,619200,622800,626400,630000,633600,637200,640800,644400,648000,651600,655200,658800,662400,666000,669600,673200,676800,680400,684000,687600,691200,694800,698400,702000,705600,709200,712800,716400,720000,723600,727200,730800,734400,738000,741600,745200,748800,752400,756000,759600,32400,0],\"y\":[0.8558774229138716,0.7957722003062584,0.7393425131140692,0.7277709605705982,0.7115503037561518,0.6836167992047172,0.6880972986256713,0.7099376264619179,0.750052516025669,0.8194253900031775,0.8672364035289032,3.014720076478424,3.9794798698414287,4.471783383855965,4.208422113611067,3.174058585676625,3.1920653781562107,3.195209189954575,2.9620868191546923,2.8532172549660415,2.9095697934058773,2.891845646506207,3.11285299235546,2.8328501319658845,3.4431316200028466,4.247045472277412,4.7367966605942415,5.33690343642611,6.265483137534031,7.117612130086027,9.380297867111853,10.144669050099568,3.644704565583121,0.4528297795443075,0.44145381497397884,6.823322697890126,11.648526089192018,11.766920574248322,11.783980160160548,6.5880763197210745,2.5321706709283878,8.060142493661901,2.111349574794888,3.437965877212452,9.946952068503265,15.202570593458605,9.816530657499687,2.179115272347332,5.57955358358813,12.02033762894944,14.781599069702795,14.322487451908398,14.996116439333598,15.305187829127979,14.870884414740466,15.069196006766767,15.003148768485906,14.914480388043884,14.503906846257362,14.995791458509364,14.236885714381884,10.63136738937781,11.492402581811508,15.482284672542717,15.30700340980035,15.580569816643438,15.803217048330474,15.821439406049695,16.072484298855358,15.569602280101375,15.669419381216667,16.38399532494514,15.751624447148938,16.074519591089917,16.2916602137597,16.361653222519983,14.936664147158023,16.634111054579122,16.66655915589275,16.360778951877617,15.200833742313511,14.96319563492317,15.959230442853016,16.371297800744117,16.309451898697844,15.980324708995916,16.227235045676405,15.90090039420357,16.773233387024668,15.648707426508944,16.42309851801046,16.449547999061657,16.458636964051856,16.797924681207338,16.583049675184853,16.26214267116879,17.013955271425765,16.93997512238139,16.84310185473886,16.147246357867687,16.94097375850205,15.88665004302017,16.13663871089116,16.405861060902062,15.513444515971564,15.734259391075987,15.855793602974734,15.278325535273131,15.596239380224715,14.484377930875375,15.352240827089883,14.427888835174047,16.05726910180365,15.828693686798982,16.43830544413657,16.226680242427104,17.091051132969042,4.98695883990408,0.8290445015730488,0.902911809381293,0.9037330897585392,0.9202232877683072,0.9418881081667444,0.8826977318358833,1.1316701366243027,1.8960012905195989,2.3454496543655323,2.1336942529024365,1.8776039671010165,1.8138404833820088,1.2488005049157576,1.753637612023472,1.2787470080540757,0.519451527179741,0.5201779231957939,0.5485487933519899,0.6435685933993649,0.7761013700278673,5.93327181468542,7.492698761797676,0.7443532414669345,8.160825725475846,0.7347755438701649,8.209433835280166,0.7537599208339795,6.585386436508879,0.8003456890296383,7.33916047219881,0.7894428953211018,7.614307409371614,0.8095258113420754,8.070311958376454,0.8884900851771265,0.913763910851303,0.9210040890627981,0.8893272826612152,1.6353580487732218,1.601641814404966,1.4195778667174457,1.3796602780175617,1.102402254743113,0.9764753092944853,0.8458807478909773,0.668941040857473,0.5773870966880689,0.5846037083849158,0.5742232140722329,0.5885761824353949,0.6202746819375006,0.6263601636146396,0.7464986883987549,0.7809880523706466,0.6945598557577775,0.6675921595017712,0.7406371709684129,0.7715413004096381,0.7278308559622855,0.7957748739601161,0.8482006273926643,1.952675284509589,2.058766511529862,1.6013134022158773,1.5619072258234923,2.0429401316405134,2.4863288870038187,3.1619192941717373,3.3756397871277755,3.074183383369877,3.153523212002473,3.129483195131781,1.2827632049612048,0.653516991205816,0.7821703510537058,0.8442864702424803,0.919583235150058,0.9494562138096595,0.992747199783024,0.9170360670422486,0.886894739979173,0.9246729470339247,0.9345682776486534,0.9780287635923978,0.9850312947816744,6.446981732511107,8.694951822723027,9.738754398191315,5.153286162105681,4.172657364998516,11.266554223074108,2.3888636906282015,3.7771941843537546,1.690661215119433,1.2659539645480102,0.8962126951323383,0.6885514406906961,0.6603075758293946,0.644378718602045,0.8176349536767132,0.6429755755338583,0.6180800304392833,0.6561849725058914,0.7534049406555935,0.6942402677442062,0.7842087482092093,0.6410841136039475,0.6055668771826306,2.6148433192399883,2.8353895159694855,3.7937617403202353,4.127397835053812,4.1350303457386435,9.003276632293101,8.898252090211528,8.212492638218878,11.114570461040092,11.910108862942899,9.951027224275999,1.3558116103645323,0.7578582810266801,3.2791980921508554,1.3407426696862808,0.85962677395064,1.1389889767266275,0.9921045719280421,1.0044555859650994,0.9452085079517387,0.9242047729355459,0.9418102708013616,0.9314392931513442,0.9470187761028519,2.39865222164801,2.7247048435641807,3.775335889107591,4.157114654629559,4.55616971933642,4.674838596926064,4.5773782838280495,2.517889749442326,1.8400711352777837,1.4326301928580947,1.2494172803033523,0.7351023663495859,0.6374596157656043,0.7418805863045527,0.6996059252076476,0.6643525433670259,0.6786083250749003,0.6694258029460592,0.6002858314025017,0.6216073949378185,0.687190184636051,0.6969124177484813,0.6347614826417978,0.5688801530838851,3.0491760452369756,5.78036544841892,3.770413917793256,3.7537555289465354,2.5684454026119448,2.0655015054258934,2.4535294045263742,1.8493273282293405,1.5197497856200568,1.3504427262403849,1.1194020974763217,0.6090020330200189,0.5069987062487948,0.4753606226502226,0.4786098242254226,0.4738091960637289,0.4687386305679688,0.5245368061244348,0.5203254135903748,0.5264920687146203,0.5175308857922519,0.5278374829285045,0.5471186358594773,0.558386988621211,0.8727371972305031,1.764016264255292,2.09064406895613,2.4038032833689376,2.584557801629398,2.5903622064266547,2.264315914370514,1.7895817788088342,1.6982203652335095,1.5801585184080553,1.6024736631515941,0.9073007462319682,0.710670365900987,0.6503135207090796,0.6421245485857179,0.6158228844793536,0.7002273122429767,0.5879676979479374,0.5933961117286229,0.608421035210184,0.6220419125716123,0.6453529149448086,0.6654323433426944,0.6680847654860281,0.9790086701072176,1.8010019865267064,2.3362704860284658,2.5547581625306353,2.70116876159246,2.771526931257832,2.55674785467221,2.2245194949673714,2.1107732100138095,2.272468409564265,2.035517886294024,1.2274122758164643,0.9513739273459721,2.3329260205306284,3.5146809915121415],\"type\":\"scatter\"}],                        {\"template\":{\"data\":{\"histogram2dcontour\":[{\"type\":\"histogram2dcontour\",\"colorbar\":{\"outlinewidth\":0,\"ticks\":\"\"},\"colorscale\":[[0.0,\"#0d0887\"],[0.1111111111111111,\"#46039f\"],[0.2222222222222222,\"#7201a8\"],[0.3333333333333333,\"#9c179e\"],[0.4444444444444444,\"#bd3786\"],[0.5555555555555556,\"#d8576b\"],[0.6666666666666666,\"#ed7953\"],[0.7777777777777778,\"#fb9f3a\"],[0.8888888888888888,\"#fdca26\"],[1.0,\"#f0f921\"]]}],\"choropleth\":[{\"type\":\"choropleth\",\"colorbar\":{\"outlinewidth\":0,\"ticks\":\"\"}}],\"histogram2d\":[{\"type\":\"histogram2d\",\"colorbar\":{\"outlinewidth\":0,\"ticks\":\"\"},\"colorscale\":[[0.0,\"#0d0887\"],[0.1111111111111111,\"#46039f\"],[0.2222222222222222,\"#7201a8\"],[0.3333333333333333,\"#9c179e\"],[0.4444444444444444,\"#bd3786\"],[0.5555555555555556,\"#d8576b\"],[0.6666666666666666,\"#ed7953\"],[0.7777777777777778,\"#fb9f3a\"],[0.8888888888888888,\"#fdca26\"],[1.0,\"#f0f921\"]]}],\"heatmap\":[{\"type\":\"heatmap\",\"colorbar\":{\"outlinewidth\":0,\"ticks\":\"\"},\"colorscale\":[[0.0,\"#0d0887\"],[0.1111111111111111,\"#46039f\"],[0.2222222222222222,\"#7201a8\"],[0.3333333333333333,\"#9c179e\"],[0.4444444444444444,\"#bd3786\"],[0.5555555555555556,\"#d8576b\"],[0.6666666666666666,\"#ed7953\"],[0.7777777777777778,\"#fb9f3a\"],[0.8888888888888888,\"#fdca26\"],[1.0,\"#f0f921\"]]}],\"heatmapgl\":[{\"type\":\"heatmapgl\",\"colorbar\":{\"outlinewidth\":0,\"ticks\":\"\"},\"colorscale\":[[0.0,\"#0d0887\"],[0.1111111111111111,\"#46039f\"],[0.2222222222222222,\"#7201a8\"],[0.3333333333333333,\"#9c179e\"],[0.4444444444444444,\"#bd3786\"],[0.5555555555555556,\"#d8576b\"],[0.6666666666666666,\"#ed7953\"],[0.7777777777777778,\"#fb9f3a\"],[0.8888888888888888,\"#fdca26\"],[1.0,\"#f0f921\"]]}],\"contourcarpet\":[{\"type\":\"contourcarpet\",\"colorbar\":{\"outlinewidth\":0,\"ticks\":\"\"}}],\"contour\":[{\"type\":\"contour\",\"colorbar\":{\"outlinewidth\":0,\"ticks\":\"\"},\"colorscale\":[[0.0,\"#0d0887\"],[0.1111111111111111,\"#46039f\"],[0.2222222222222222,\"#7201a8\"],[0.3333333333333333,\"#9c179e\"],[0.4444444444444444,\"#bd3786\"],[0.5555555555555556,\"#d8576b\"],[0.6666666666666666,\"#ed7953\"],[0.7777777777777778,\"#fb9f3a\"],[0.8888888888888888,\"#fdca26\"],[1.0,\"#f0f921\"]]}],\"surface\":[{\"type\":\"surface\",\"colorbar\":{\"outlinewidth\":0,\"ticks\":\"\"},\"colorscale\":[[0.0,\"#0d0887\"],[0.1111111111111111,\"#46039f\"],[0.2222222222222222,\"#7201a8\"],[0.3333333333333333,\"#9c179e\"],[0.4444444444444444,\"#bd3786\"],[0.5555555555555556,\"#d8576b\"],[0.6666666666666666,\"#ed7953\"],[0.7777777777777778,\"#fb9f3a\"],[0.8888888888888888,\"#fdca26\"],[1.0,\"#f0f921\"]]}],\"mesh3d\":[{\"type\":\"mesh3d\",\"colorbar\":{\"outlinewidth\":0,\"ticks\":\"\"}}],\"scatter\":[{\"fillpattern\":{\"fillmode\":\"overlay\",\"size\":10,\"solidity\":0.2},\"type\":\"scatter\"}],\"parcoords\":[{\"type\":\"parcoords\",\"line\":{\"colorbar\":{\"outlinewidth\":0,\"ticks\":\"\"}}}],\"scatterpolargl\":[{\"type\":\"scatterpolargl\",\"marker\":{\"colorbar\":{\"outlinewidth\":0,\"ticks\":\"\"}}}],\"bar\":[{\"error_x\":{\"color\":\"#2a3f5f\"},\"error_y\":{\"color\":\"#2a3f5f\"},\"marker\":{\"line\":{\"color\":\"#E5ECF6\",\"width\":0.5},\"pattern\":{\"fillmode\":\"overlay\",\"size\":10,\"solidity\":0.2}},\"type\":\"bar\"}],\"scattergeo\":[{\"type\":\"scattergeo\",\"marker\":{\"colorbar\":{\"outlinewidth\":0,\"ticks\":\"\"}}}],\"scatterpolar\":[{\"type\":\"scatterpolar\",\"marker\":{\"colorbar\":{\"outlinewidth\":0,\"ticks\":\"\"}}}],\"histogram\":[{\"marker\":{\"pattern\":{\"fillmode\":\"overlay\",\"size\":10,\"solidity\":0.2}},\"type\":\"histogram\"}],\"scattergl\":[{\"type\":\"scattergl\",\"marker\":{\"colorbar\":{\"outlinewidth\":0,\"ticks\":\"\"}}}],\"scatter3d\":[{\"type\":\"scatter3d\",\"line\":{\"colorbar\":{\"outlinewidth\":0,\"ticks\":\"\"}},\"marker\":{\"colorbar\":{\"outlinewidth\":0,\"ticks\":\"\"}}}],\"scattermapbox\":[{\"type\":\"scattermapbox\",\"marker\":{\"colorbar\":{\"outlinewidth\":0,\"ticks\":\"\"}}}],\"scatterternary\":[{\"type\":\"scatterternary\",\"marker\":{\"colorbar\":{\"outlinewidth\":0,\"ticks\":\"\"}}}],\"scattercarpet\":[{\"type\":\"scattercarpet\",\"marker\":{\"colorbar\":{\"outlinewidth\":0,\"ticks\":\"\"}}}],\"carpet\":[{\"aaxis\":{\"endlinecolor\":\"#2a3f5f\",\"gridcolor\":\"white\",\"linecolor\":\"white\",\"minorgridcolor\":\"white\",\"startlinecolor\":\"#2a3f5f\"},\"baxis\":{\"endlinecolor\":\"#2a3f5f\",\"gridcolor\":\"white\",\"linecolor\":\"white\",\"minorgridcolor\":\"white\",\"startlinecolor\":\"#2a3f5f\"},\"type\":\"carpet\"}],\"table\":[{\"cells\":{\"fill\":{\"color\":\"#EBF0F8\"},\"line\":{\"color\":\"white\"}},\"header\":{\"fill\":{\"color\":\"#C8D4E3\"},\"line\":{\"color\":\"white\"}},\"type\":\"table\"}],\"barpolar\":[{\"marker\":{\"line\":{\"color\":\"#E5ECF6\",\"width\":0.5},\"pattern\":{\"fillmode\":\"overlay\",\"size\":10,\"solidity\":0.2}},\"type\":\"barpolar\"}],\"pie\":[{\"automargin\":true,\"type\":\"pie\"}]},\"layout\":{\"autotypenumbers\":\"strict\",\"colorway\":[\"#636efa\",\"#EF553B\",\"#00cc96\",\"#ab63fa\",\"#FFA15A\",\"#19d3f3\",\"#FF6692\",\"#B6E880\",\"#FF97FF\",\"#FECB52\"],\"font\":{\"color\":\"#2a3f5f\"},\"hovermode\":\"closest\",\"hoverlabel\":{\"align\":\"left\"},\"paper_bgcolor\":\"white\",\"plot_bgcolor\":\"#E5ECF6\",\"polar\":{\"bgcolor\":\"#E5ECF6\",\"angularaxis\":{\"gridcolor\":\"white\",\"linecolor\":\"white\",\"ticks\":\"\"},\"radialaxis\":{\"gridcolor\":\"white\",\"linecolor\":\"white\",\"ticks\":\"\"}},\"ternary\":{\"bgcolor\":\"#E5ECF6\",\"aaxis\":{\"gridcolor\":\"white\",\"linecolor\":\"white\",\"ticks\":\"\"},\"baxis\":{\"gridcolor\":\"white\",\"linecolor\":\"white\",\"ticks\":\"\"},\"caxis\":{\"gridcolor\":\"white\",\"linecolor\":\"white\",\"ticks\":\"\"}},\"coloraxis\":{\"colorbar\":{\"outlinewidth\":0,\"ticks\":\"\"}},\"colorscale\":{\"sequential\":[[0.0,\"#0d0887\"],[0.1111111111111111,\"#46039f\"],[0.2222222222222222,\"#7201a8\"],[0.3333333333333333,\"#9c179e\"],[0.4444444444444444,\"#bd3786\"],[0.5555555555555556,\"#d8576b\"],[0.6666666666666666,\"#ed7953\"],[0.7777777777777778,\"#fb9f3a\"],[0.8888888888888888,\"#fdca26\"],[1.0,\"#f0f921\"]],\"sequentialminus\":[[0.0,\"#0d0887\"],[0.1111111111111111,\"#46039f\"],[0.2222222222222222,\"#7201a8\"],[0.3333333333333333,\"#9c179e\"],[0.4444444444444444,\"#bd3786\"],[0.5555555555555556,\"#d8576b\"],[0.6666666666666666,\"#ed7953\"],[0.7777777777777778,\"#fb9f3a\"],[0.8888888888888888,\"#fdca26\"],[1.0,\"#f0f921\"]],\"diverging\":[[0,\"#8e0152\"],[0.1,\"#c51b7d\"],[0.2,\"#de77ae\"],[0.3,\"#f1b6da\"],[0.4,\"#fde0ef\"],[0.5,\"#f7f7f7\"],[0.6,\"#e6f5d0\"],[0.7,\"#b8e186\"],[0.8,\"#7fbc41\"],[0.9,\"#4d9221\"],[1,\"#276419\"]]},\"xaxis\":{\"gridcolor\":\"white\",\"linecolor\":\"white\",\"ticks\":\"\",\"title\":{\"standoff\":15},\"zerolinecolor\":\"white\",\"automargin\":true,\"zerolinewidth\":2},\"yaxis\":{\"gridcolor\":\"white\",\"linecolor\":\"white\",\"ticks\":\"\",\"title\":{\"standoff\":15},\"zerolinecolor\":\"white\",\"automargin\":true,\"zerolinewidth\":2},\"scene\":{\"xaxis\":{\"backgroundcolor\":\"#E5ECF6\",\"gridcolor\":\"white\",\"linecolor\":\"white\",\"showbackground\":true,\"ticks\":\"\",\"zerolinecolor\":\"white\",\"gridwidth\":2},\"yaxis\":{\"backgroundcolor\":\"#E5ECF6\",\"gridcolor\":\"white\",\"linecolor\":\"white\",\"showbackground\":true,\"ticks\":\"\",\"zerolinecolor\":\"white\",\"gridwidth\":2},\"zaxis\":{\"backgroundcolor\":\"#E5ECF6\",\"gridcolor\":\"white\",\"linecolor\":\"white\",\"showbackground\":true,\"ticks\":\"\",\"zerolinecolor\":\"white\",\"gridwidth\":2}},\"shapedefaults\":{\"line\":{\"color\":\"#2a3f5f\"}},\"annotationdefaults\":{\"arrowcolor\":\"#2a3f5f\",\"arrowhead\":0,\"arrowwidth\":1},\"geo\":{\"bgcolor\":\"white\",\"landcolor\":\"#E5ECF6\",\"subunitcolor\":\"white\",\"showland\":true,\"showlakes\":true,\"lakecolor\":\"white\"},\"title\":{\"x\":0.05},\"mapbox\":{\"style\":\"light\"}}},\"title\":{\"text\":\"Stddev (agg0) for not (readings.voltage=2.32 AND readings.moteid=18) -- score: -0.07865115162249187 \"},\"xaxis\":{\"title\":{\"text\":\"hrint\"}},\"yaxis\":{\"title\":{\"text\":\"stddev (agg0)\"}}},                        {\"responsive\": true}                    ).then(function(){\n",
       "                            \n",
       "var gd = document.getElementById('e24295d2-c68d-40da-999b-709ef34aa890');\n",
       "var x = new MutationObserver(function (mutations, observer) {{\n",
       "        var display = window.getComputedStyle(gd).display;\n",
       "        if (!display || display === 'none') {{\n",
       "            console.log([gd, 'removed!']);\n",
       "            Plotly.purge(gd);\n",
       "            observer.disconnect();\n",
       "        }}\n",
       "}});\n",
       "\n",
       "// Listen for the removal of the full notebook cells\n",
       "var notebookContainer = gd.closest('#notebook-container');\n",
       "if (notebookContainer) {{\n",
       "    x.observe(notebookContainer, {childList: true});\n",
       "}}\n",
       "\n",
       "// Listen for the clearing of the current output cell\n",
       "var outputEl = gd.closest('.output');\n",
       "if (outputEl) {{\n",
       "    x.observe(outputEl, {childList: true});\n",
       "}}\n",
       "\n",
       "                        })                };                });            </script>        </div>"
      ]
     },
     "metadata": {},
     "output_type": "display_data"
    },
    {
     "data": {
      "application/vnd.plotly.v1+json": {
       "config": {
        "plotlyServerURL": "https://plot.ly"
       },
       "data": [
        {
         "mode": "markers",
         "name": "not (readings.voltage=2.54901 AND readings.moteid=35) -- score: -0.09096447868858136",
         "type": "scatter",
         "x": [
          763200,
          766800,
          770400,
          774000,
          777600,
          781200,
          784800,
          788400,
          792000,
          795600,
          799200,
          802800,
          806400,
          810000,
          813600,
          817200,
          820800,
          824400,
          828000,
          831600,
          835200,
          838800,
          842400,
          846000,
          849600,
          853200,
          856800,
          860400,
          864000,
          867600,
          871200,
          874800,
          878400,
          882000,
          885600,
          889200,
          892800,
          896400,
          900000,
          903600,
          907200,
          910800,
          914400,
          918000,
          921600,
          925200,
          928800,
          932400,
          936000,
          939600,
          943200,
          946800,
          950400,
          954000,
          957600,
          961200,
          964800,
          968400,
          972000,
          975600,
          979200,
          982800,
          1098000,
          1101600,
          1105200,
          1108800,
          1112400,
          1116000,
          1119600,
          1123200,
          1126800,
          1130400,
          1134000,
          1137600,
          1141200,
          1144800,
          1148400,
          1152000,
          1155600,
          1159200,
          1162800,
          1166400,
          1170000,
          1173600,
          1177200,
          1180800,
          1184400,
          1188000,
          1191600,
          1195200,
          1198800,
          1202400,
          1206000,
          1209600,
          1213200,
          1216800,
          1220400,
          1224000,
          1227600,
          1231200,
          1234800,
          1238400,
          1242000,
          1245600,
          1249200,
          1252800,
          1256400,
          1260000,
          1263600,
          1267200,
          1270800,
          1274400,
          1278000,
          1281600,
          1285200,
          1288800,
          1292400,
          295200,
          3600,
          7200,
          10800,
          14400,
          18000,
          21600,
          25200,
          28800,
          36000,
          39600,
          43200,
          46800,
          50400,
          54000,
          57600,
          61200,
          64800,
          68400,
          72000,
          75600,
          1069200,
          1072800,
          79200,
          1076400,
          82800,
          1080000,
          86400,
          1083600,
          90000,
          1087200,
          93600,
          1090800,
          97200,
          1094400,
          100800,
          104400,
          108000,
          111600,
          115200,
          118800,
          122400,
          126000,
          129600,
          133200,
          136800,
          140400,
          144000,
          147600,
          151200,
          154800,
          158400,
          162000,
          165600,
          169200,
          172800,
          176400,
          180000,
          183600,
          187200,
          190800,
          194400,
          198000,
          201600,
          205200,
          208800,
          212400,
          216000,
          219600,
          223200,
          226800,
          230400,
          234000,
          237600,
          241200,
          244800,
          248400,
          252000,
          255600,
          259200,
          262800,
          266400,
          270000,
          273600,
          277200,
          280800,
          284400,
          288000,
          291600,
          298800,
          302400,
          306000,
          309600,
          313200,
          316800,
          320400,
          324000,
          327600,
          331200,
          334800,
          338400,
          342000,
          345600,
          349200,
          352800,
          356400,
          360000,
          363600,
          367200,
          370800,
          374400,
          378000,
          381600,
          385200,
          388800,
          392400,
          396000,
          399600,
          403200,
          406800,
          410400,
          414000,
          417600,
          421200,
          424800,
          428400,
          432000,
          435600,
          439200,
          442800,
          446400,
          450000,
          453600,
          457200,
          460800,
          464400,
          468000,
          471600,
          475200,
          478800,
          482400,
          486000,
          489600,
          493200,
          496800,
          500400,
          504000,
          507600,
          511200,
          514800,
          518400,
          522000,
          525600,
          529200,
          532800,
          536400,
          540000,
          543600,
          547200,
          550800,
          554400,
          558000,
          561600,
          565200,
          568800,
          572400,
          576000,
          579600,
          583200,
          586800,
          590400,
          594000,
          597600,
          601200,
          604800,
          608400,
          612000,
          615600,
          619200,
          622800,
          626400,
          630000,
          633600,
          637200,
          640800,
          644400,
          648000,
          651600,
          655200,
          658800,
          662400,
          666000,
          669600,
          673200,
          676800,
          680400,
          684000,
          687600,
          691200,
          694800,
          698400,
          702000,
          705600,
          709200,
          712800,
          716400,
          720000,
          723600,
          727200,
          730800,
          734400,
          738000,
          741600,
          745200,
          748800,
          752400,
          756000,
          759600,
          32400,
          0
         ],
         "y": [
          0.8558774229138716,
          0.7957722003062584,
          0.7393425131140692,
          0.7277709605705982,
          0.7115503037561518,
          0.6836167992047172,
          0.6880972986256713,
          0.7100335587325984,
          0.7501653185445144,
          0.8205342150612578,
          0.8698825165986774,
          3.014720076478424,
          3.9798723861139274,
          4.471783383855965,
          4.209617519756363,
          3.174058585676625,
          3.1920653781562107,
          3.195209189954575,
          2.9626276424493603,
          2.8614745702487023,
          2.9145733459815806,
          2.9067043047228838,
          3.113592805838401,
          2.8328501319658845,
          3.4431316200028466,
          4.247045472277412,
          4.7367966605942415,
          5.33690343642611,
          6.266281184001594,
          7.150443281683704,
          9.4743340036796,
          10.51785914378991,
          11.806411212082132,
          13.669921152145616,
          14.221354291017725,
          14.709702130259608,
          14.327363638881062,
          16.021645652763183,
          15.172680265509388,
          14.6107857652776,
          15.308034203247855,
          15.925828728056992,
          15.696796776227908,
          15.135519738729622,
          15.233881030334683,
          15.202570593458605,
          15.019872941762278,
          14.970259157493993,
          14.356798742056302,
          14.3094695623427,
          15.067368722327917,
          14.42679531511336,
          15.093494990556756,
          15.311837369445348,
          14.874186202660562,
          15.069196006766767,
          15.003148768485906,
          14.914480388043884,
          14.503906846257362,
          15.002479388160191,
          14.236885714381884,
          10.63136738937781,
          11.492402581811508,
          15.482284672542717,
          15.30700340980035,
          15.580569816643438,
          15.803217048330474,
          15.821439406049695,
          16.072484298855358,
          15.569602280101375,
          15.669419381216667,
          16.38399532494514,
          15.751624447148938,
          16.074519591089917,
          16.2916602137597,
          16.361653222519983,
          14.936664147158023,
          16.634111054579122,
          16.66655915589275,
          16.360778951877617,
          15.200833742313511,
          14.96319563492317,
          15.959230442853016,
          16.371297800744117,
          16.309451898697844,
          15.980324708995916,
          16.227235045676405,
          15.90090039420357,
          16.773233387024668,
          15.648707426508944,
          16.42309851801046,
          16.449547999061657,
          16.458636964051856,
          16.797924681207338,
          16.583049675184853,
          16.26214267116879,
          17.013955271425765,
          16.93997512238139,
          16.84310185473886,
          16.147246357867687,
          16.94097375850205,
          15.88665004302017,
          16.13663871089116,
          16.405861060902062,
          15.513444515971564,
          15.742852494586916,
          15.888727832294917,
          15.284492257229894,
          15.596239380224715,
          14.484377930875375,
          15.352240827089883,
          14.427888835174047,
          16.05726910180365,
          15.828693686798982,
          16.43830544413657,
          16.226680242427104,
          17.091051132969042,
          4.98695883990408,
          0.8290445015730488,
          0.902911809381293,
          0.9037330897585392,
          0.9202232877683072,
          0.9418881081667444,
          0.8826977318358833,
          1.1316701366243027,
          1.8960012905195989,
          2.3454496543655323,
          2.1336942529024365,
          1.8776039671010165,
          1.8138404833820088,
          1.2488005049157576,
          1.753637612023472,
          1.2787470080540757,
          0.519451527179741,
          0.5201779231957939,
          0.5485487933519899,
          0.6435685933993649,
          0.7761013700278673,
          5.93327181468542,
          7.492698761797676,
          0.7443532414669345,
          8.160825725475846,
          0.7347755438701649,
          8.209433835280166,
          0.7537599208339795,
          6.585386436508879,
          0.8003456890296383,
          7.33916047219881,
          0.7894428953211018,
          7.614307409371614,
          0.8095258113420754,
          8.070311958376454,
          0.8884900851771265,
          0.913763910851303,
          0.9210040890627981,
          0.8893272826612152,
          1.6353580487732218,
          1.601641814404966,
          1.4195778667174457,
          1.3796602780175617,
          1.102402254743113,
          0.9764753092944853,
          0.8458807478909773,
          0.668941040857473,
          0.5773870966880689,
          0.5846037083849158,
          0.5742232140722329,
          0.5885761824353949,
          0.6202746819375006,
          0.6263601636146396,
          0.7464986883987549,
          0.7809880523706466,
          0.6945598557577775,
          0.6675921595017712,
          0.7406371709684129,
          0.7715413004096381,
          0.7278308559622855,
          0.7957748739601161,
          0.8482006273926643,
          1.952675284509589,
          2.058766511529862,
          1.6013134022158773,
          1.5619072258234923,
          2.0429401316405134,
          2.4863288870038187,
          3.1619192941717373,
          3.3756397871277755,
          3.074183383369877,
          3.153523212002473,
          3.129483195131781,
          1.2827632049612048,
          0.653516991205816,
          0.7821703510537058,
          0.8442864702424803,
          0.919583235150058,
          0.9494562138096595,
          0.992747199783024,
          0.9170360670422486,
          0.886894739979173,
          0.9246729470339247,
          0.9345682776486534,
          0.9780287635923978,
          0.9850312947816744,
          6.446981732511107,
          8.694951822723027,
          9.738754398191315,
          5.153286162105681,
          4.172657364998516,
          11.266554223074108,
          2.3888636906282015,
          3.7771941843537546,
          1.690661215119433,
          1.2659539645480102,
          0.8962126951323383,
          0.6885514406906961,
          0.6603075758293946,
          0.644378718602045,
          0.8176349536767132,
          0.6429755755338583,
          0.6180800304392833,
          0.6561849725058914,
          0.7534049406555935,
          0.6942402677442062,
          0.7842087482092093,
          0.6410841136039475,
          0.6055668771826306,
          2.6148433192399883,
          2.8353895159694855,
          3.7937617403202353,
          4.127397835053812,
          4.1350303457386435,
          9.003276632293101,
          8.898252090211528,
          8.212492638218878,
          11.114570461040092,
          11.910108862942899,
          9.951027224275999,
          1.3558116103645323,
          0.7578582810266801,
          3.2791980921508554,
          1.3407426696862808,
          0.85962677395064,
          1.1389889767266275,
          0.9921045719280421,
          1.0044555859650994,
          0.9452085079517387,
          0.9242047729355459,
          0.9418266757628415,
          0.9320706651990054,
          0.9483509725092915,
          2.39865222164801,
          2.7247048435641807,
          3.775335889107591,
          4.157114654629559,
          4.55616971933642,
          4.674838596926064,
          4.5773782838280495,
          2.517889749442326,
          1.8400711352777837,
          1.4326301928580947,
          1.2494172803033523,
          0.7351023663495859,
          0.6374596157656043,
          0.7418805863045527,
          0.6996059252076476,
          0.6643525433670259,
          0.6786083250749003,
          0.6694258029460592,
          0.6002858314025017,
          0.6216073949378185,
          0.687190184636051,
          0.6965664674513956,
          0.6326249591473525,
          0.5668993831919626,
          3.0484338828572994,
          5.78036544841892,
          3.770413917793256,
          3.7537555289465354,
          2.5684454026119448,
          2.0655015054258934,
          2.4535294045263742,
          1.8493273282293405,
          1.5197497856200568,
          1.3504427262403849,
          1.1194020974763217,
          0.6090020330200189,
          0.5069987062487948,
          0.4753606226502226,
          0.4786098242254226,
          0.4738091960637289,
          0.4687386305679688,
          0.5245671623334375,
          0.5193446598919946,
          0.5245125478265359,
          0.5137041379505647,
          0.5246710301548431,
          0.5426631339620538,
          0.5539380546839199,
          0.8744341044542222,
          1.765397429270845,
          2.09064406895613,
          2.4038032833689376,
          2.584557801629398,
          2.5903622064266547,
          2.264315914370514,
          1.7895817788088342,
          1.6982203652335095,
          1.5801585184080553,
          1.6024736631515941,
          0.9073007462319682,
          0.710670365900987,
          0.6503135207090796,
          0.6421245485857179,
          0.6158228844793536,
          0.7002273122429767,
          0.5879676979479374,
          0.5933961117286229,
          0.6080617786854395,
          0.6192063822262494,
          0.6404799719441816,
          0.6581307659317985,
          0.6623138362562275,
          0.9831115896669562,
          1.8010019865267064,
          2.3362704860284658,
          2.5547581625306353,
          2.70116876159246,
          2.771526931257832,
          2.55674785467221,
          2.2245194949673714,
          2.1107732100138095,
          2.272468409564265,
          2.035517886294024,
          1.2274122758164643,
          0.9513739273459721,
          2.3329260205306284,
          3.5146809915121415
         ]
        }
       ],
       "layout": {
        "autosize": true,
        "template": {
         "data": {
          "bar": [
           {
            "error_x": {
             "color": "#2a3f5f"
            },
            "error_y": {
             "color": "#2a3f5f"
            },
            "marker": {
             "line": {
              "color": "#E5ECF6",
              "width": 0.5
             },
             "pattern": {
              "fillmode": "overlay",
              "size": 10,
              "solidity": 0.2
             }
            },
            "type": "bar"
           }
          ],
          "barpolar": [
           {
            "marker": {
             "line": {
              "color": "#E5ECF6",
              "width": 0.5
             },
             "pattern": {
              "fillmode": "overlay",
              "size": 10,
              "solidity": 0.2
             }
            },
            "type": "barpolar"
           }
          ],
          "carpet": [
           {
            "aaxis": {
             "endlinecolor": "#2a3f5f",
             "gridcolor": "white",
             "linecolor": "white",
             "minorgridcolor": "white",
             "startlinecolor": "#2a3f5f"
            },
            "baxis": {
             "endlinecolor": "#2a3f5f",
             "gridcolor": "white",
             "linecolor": "white",
             "minorgridcolor": "white",
             "startlinecolor": "#2a3f5f"
            },
            "type": "carpet"
           }
          ],
          "choropleth": [
           {
            "colorbar": {
             "outlinewidth": 0,
             "ticks": ""
            },
            "type": "choropleth"
           }
          ],
          "contour": [
           {
            "colorbar": {
             "outlinewidth": 0,
             "ticks": ""
            },
            "colorscale": [
             [
              0,
              "#0d0887"
             ],
             [
              0.1111111111111111,
              "#46039f"
             ],
             [
              0.2222222222222222,
              "#7201a8"
             ],
             [
              0.3333333333333333,
              "#9c179e"
             ],
             [
              0.4444444444444444,
              "#bd3786"
             ],
             [
              0.5555555555555556,
              "#d8576b"
             ],
             [
              0.6666666666666666,
              "#ed7953"
             ],
             [
              0.7777777777777778,
              "#fb9f3a"
             ],
             [
              0.8888888888888888,
              "#fdca26"
             ],
             [
              1,
              "#f0f921"
             ]
            ],
            "type": "contour"
           }
          ],
          "contourcarpet": [
           {
            "colorbar": {
             "outlinewidth": 0,
             "ticks": ""
            },
            "type": "contourcarpet"
           }
          ],
          "heatmap": [
           {
            "colorbar": {
             "outlinewidth": 0,
             "ticks": ""
            },
            "colorscale": [
             [
              0,
              "#0d0887"
             ],
             [
              0.1111111111111111,
              "#46039f"
             ],
             [
              0.2222222222222222,
              "#7201a8"
             ],
             [
              0.3333333333333333,
              "#9c179e"
             ],
             [
              0.4444444444444444,
              "#bd3786"
             ],
             [
              0.5555555555555556,
              "#d8576b"
             ],
             [
              0.6666666666666666,
              "#ed7953"
             ],
             [
              0.7777777777777778,
              "#fb9f3a"
             ],
             [
              0.8888888888888888,
              "#fdca26"
             ],
             [
              1,
              "#f0f921"
             ]
            ],
            "type": "heatmap"
           }
          ],
          "heatmapgl": [
           {
            "colorbar": {
             "outlinewidth": 0,
             "ticks": ""
            },
            "colorscale": [
             [
              0,
              "#0d0887"
             ],
             [
              0.1111111111111111,
              "#46039f"
             ],
             [
              0.2222222222222222,
              "#7201a8"
             ],
             [
              0.3333333333333333,
              "#9c179e"
             ],
             [
              0.4444444444444444,
              "#bd3786"
             ],
             [
              0.5555555555555556,
              "#d8576b"
             ],
             [
              0.6666666666666666,
              "#ed7953"
             ],
             [
              0.7777777777777778,
              "#fb9f3a"
             ],
             [
              0.8888888888888888,
              "#fdca26"
             ],
             [
              1,
              "#f0f921"
             ]
            ],
            "type": "heatmapgl"
           }
          ],
          "histogram": [
           {
            "marker": {
             "pattern": {
              "fillmode": "overlay",
              "size": 10,
              "solidity": 0.2
             }
            },
            "type": "histogram"
           }
          ],
          "histogram2d": [
           {
            "colorbar": {
             "outlinewidth": 0,
             "ticks": ""
            },
            "colorscale": [
             [
              0,
              "#0d0887"
             ],
             [
              0.1111111111111111,
              "#46039f"
             ],
             [
              0.2222222222222222,
              "#7201a8"
             ],
             [
              0.3333333333333333,
              "#9c179e"
             ],
             [
              0.4444444444444444,
              "#bd3786"
             ],
             [
              0.5555555555555556,
              "#d8576b"
             ],
             [
              0.6666666666666666,
              "#ed7953"
             ],
             [
              0.7777777777777778,
              "#fb9f3a"
             ],
             [
              0.8888888888888888,
              "#fdca26"
             ],
             [
              1,
              "#f0f921"
             ]
            ],
            "type": "histogram2d"
           }
          ],
          "histogram2dcontour": [
           {
            "colorbar": {
             "outlinewidth": 0,
             "ticks": ""
            },
            "colorscale": [
             [
              0,
              "#0d0887"
             ],
             [
              0.1111111111111111,
              "#46039f"
             ],
             [
              0.2222222222222222,
              "#7201a8"
             ],
             [
              0.3333333333333333,
              "#9c179e"
             ],
             [
              0.4444444444444444,
              "#bd3786"
             ],
             [
              0.5555555555555556,
              "#d8576b"
             ],
             [
              0.6666666666666666,
              "#ed7953"
             ],
             [
              0.7777777777777778,
              "#fb9f3a"
             ],
             [
              0.8888888888888888,
              "#fdca26"
             ],
             [
              1,
              "#f0f921"
             ]
            ],
            "type": "histogram2dcontour"
           }
          ],
          "mesh3d": [
           {
            "colorbar": {
             "outlinewidth": 0,
             "ticks": ""
            },
            "type": "mesh3d"
           }
          ],
          "parcoords": [
           {
            "line": {
             "colorbar": {
              "outlinewidth": 0,
              "ticks": ""
             }
            },
            "type": "parcoords"
           }
          ],
          "pie": [
           {
            "automargin": true,
            "type": "pie"
           }
          ],
          "scatter": [
           {
            "fillpattern": {
             "fillmode": "overlay",
             "size": 10,
             "solidity": 0.2
            },
            "type": "scatter"
           }
          ],
          "scatter3d": [
           {
            "line": {
             "colorbar": {
              "outlinewidth": 0,
              "ticks": ""
             }
            },
            "marker": {
             "colorbar": {
              "outlinewidth": 0,
              "ticks": ""
             }
            },
            "type": "scatter3d"
           }
          ],
          "scattercarpet": [
           {
            "marker": {
             "colorbar": {
              "outlinewidth": 0,
              "ticks": ""
             }
            },
            "type": "scattercarpet"
           }
          ],
          "scattergeo": [
           {
            "marker": {
             "colorbar": {
              "outlinewidth": 0,
              "ticks": ""
             }
            },
            "type": "scattergeo"
           }
          ],
          "scattergl": [
           {
            "marker": {
             "colorbar": {
              "outlinewidth": 0,
              "ticks": ""
             }
            },
            "type": "scattergl"
           }
          ],
          "scattermapbox": [
           {
            "marker": {
             "colorbar": {
              "outlinewidth": 0,
              "ticks": ""
             }
            },
            "type": "scattermapbox"
           }
          ],
          "scatterpolar": [
           {
            "marker": {
             "colorbar": {
              "outlinewidth": 0,
              "ticks": ""
             }
            },
            "type": "scatterpolar"
           }
          ],
          "scatterpolargl": [
           {
            "marker": {
             "colorbar": {
              "outlinewidth": 0,
              "ticks": ""
             }
            },
            "type": "scatterpolargl"
           }
          ],
          "scatterternary": [
           {
            "marker": {
             "colorbar": {
              "outlinewidth": 0,
              "ticks": ""
             }
            },
            "type": "scatterternary"
           }
          ],
          "surface": [
           {
            "colorbar": {
             "outlinewidth": 0,
             "ticks": ""
            },
            "colorscale": [
             [
              0,
              "#0d0887"
             ],
             [
              0.1111111111111111,
              "#46039f"
             ],
             [
              0.2222222222222222,
              "#7201a8"
             ],
             [
              0.3333333333333333,
              "#9c179e"
             ],
             [
              0.4444444444444444,
              "#bd3786"
             ],
             [
              0.5555555555555556,
              "#d8576b"
             ],
             [
              0.6666666666666666,
              "#ed7953"
             ],
             [
              0.7777777777777778,
              "#fb9f3a"
             ],
             [
              0.8888888888888888,
              "#fdca26"
             ],
             [
              1,
              "#f0f921"
             ]
            ],
            "type": "surface"
           }
          ],
          "table": [
           {
            "cells": {
             "fill": {
              "color": "#EBF0F8"
             },
             "line": {
              "color": "white"
             }
            },
            "header": {
             "fill": {
              "color": "#C8D4E3"
             },
             "line": {
              "color": "white"
             }
            },
            "type": "table"
           }
          ]
         },
         "layout": {
          "annotationdefaults": {
           "arrowcolor": "#2a3f5f",
           "arrowhead": 0,
           "arrowwidth": 1
          },
          "autotypenumbers": "strict",
          "coloraxis": {
           "colorbar": {
            "outlinewidth": 0,
            "ticks": ""
           }
          },
          "colorscale": {
           "diverging": [
            [
             0,
             "#8e0152"
            ],
            [
             0.1,
             "#c51b7d"
            ],
            [
             0.2,
             "#de77ae"
            ],
            [
             0.3,
             "#f1b6da"
            ],
            [
             0.4,
             "#fde0ef"
            ],
            [
             0.5,
             "#f7f7f7"
            ],
            [
             0.6,
             "#e6f5d0"
            ],
            [
             0.7,
             "#b8e186"
            ],
            [
             0.8,
             "#7fbc41"
            ],
            [
             0.9,
             "#4d9221"
            ],
            [
             1,
             "#276419"
            ]
           ],
           "sequential": [
            [
             0,
             "#0d0887"
            ],
            [
             0.1111111111111111,
             "#46039f"
            ],
            [
             0.2222222222222222,
             "#7201a8"
            ],
            [
             0.3333333333333333,
             "#9c179e"
            ],
            [
             0.4444444444444444,
             "#bd3786"
            ],
            [
             0.5555555555555556,
             "#d8576b"
            ],
            [
             0.6666666666666666,
             "#ed7953"
            ],
            [
             0.7777777777777778,
             "#fb9f3a"
            ],
            [
             0.8888888888888888,
             "#fdca26"
            ],
            [
             1,
             "#f0f921"
            ]
           ],
           "sequentialminus": [
            [
             0,
             "#0d0887"
            ],
            [
             0.1111111111111111,
             "#46039f"
            ],
            [
             0.2222222222222222,
             "#7201a8"
            ],
            [
             0.3333333333333333,
             "#9c179e"
            ],
            [
             0.4444444444444444,
             "#bd3786"
            ],
            [
             0.5555555555555556,
             "#d8576b"
            ],
            [
             0.6666666666666666,
             "#ed7953"
            ],
            [
             0.7777777777777778,
             "#fb9f3a"
            ],
            [
             0.8888888888888888,
             "#fdca26"
            ],
            [
             1,
             "#f0f921"
            ]
           ]
          },
          "colorway": [
           "#636efa",
           "#EF553B",
           "#00cc96",
           "#ab63fa",
           "#FFA15A",
           "#19d3f3",
           "#FF6692",
           "#B6E880",
           "#FF97FF",
           "#FECB52"
          ],
          "font": {
           "color": "#2a3f5f"
          },
          "geo": {
           "bgcolor": "white",
           "lakecolor": "white",
           "landcolor": "#E5ECF6",
           "showlakes": true,
           "showland": true,
           "subunitcolor": "white"
          },
          "hoverlabel": {
           "align": "left"
          },
          "hovermode": "closest",
          "mapbox": {
           "style": "light"
          },
          "paper_bgcolor": "white",
          "plot_bgcolor": "#E5ECF6",
          "polar": {
           "angularaxis": {
            "gridcolor": "white",
            "linecolor": "white",
            "ticks": ""
           },
           "bgcolor": "#E5ECF6",
           "radialaxis": {
            "gridcolor": "white",
            "linecolor": "white",
            "ticks": ""
           }
          },
          "scene": {
           "xaxis": {
            "backgroundcolor": "#E5ECF6",
            "gridcolor": "white",
            "gridwidth": 2,
            "linecolor": "white",
            "showbackground": true,
            "ticks": "",
            "zerolinecolor": "white"
           },
           "yaxis": {
            "backgroundcolor": "#E5ECF6",
            "gridcolor": "white",
            "gridwidth": 2,
            "linecolor": "white",
            "showbackground": true,
            "ticks": "",
            "zerolinecolor": "white"
           },
           "zaxis": {
            "backgroundcolor": "#E5ECF6",
            "gridcolor": "white",
            "gridwidth": 2,
            "linecolor": "white",
            "showbackground": true,
            "ticks": "",
            "zerolinecolor": "white"
           }
          },
          "shapedefaults": {
           "line": {
            "color": "#2a3f5f"
           }
          },
          "ternary": {
           "aaxis": {
            "gridcolor": "white",
            "linecolor": "white",
            "ticks": ""
           },
           "baxis": {
            "gridcolor": "white",
            "linecolor": "white",
            "ticks": ""
           },
           "bgcolor": "#E5ECF6",
           "caxis": {
            "gridcolor": "white",
            "linecolor": "white",
            "ticks": ""
           }
          },
          "title": {
           "x": 0.05
          },
          "xaxis": {
           "automargin": true,
           "gridcolor": "white",
           "linecolor": "white",
           "ticks": "",
           "title": {
            "standoff": 15
           },
           "zerolinecolor": "white",
           "zerolinewidth": 2
          },
          "yaxis": {
           "automargin": true,
           "gridcolor": "white",
           "linecolor": "white",
           "ticks": "",
           "title": {
            "standoff": 15
           },
           "zerolinecolor": "white",
           "zerolinewidth": 2
          }
         }
        },
        "title": {
         "text": "Stddev (agg0) for not (readings.voltage=2.54901 AND readings.moteid=35) -- score: -0.09096447868858136 "
        },
        "xaxis": {
         "autorange": true,
         "range": [
          -82193.74638100756,
          1374593.7463810076
         ],
         "title": {
          "text": "hrint"
         },
         "type": "linear"
        },
        "yaxis": {
         "autorange": true,
         "range": [
          -0.9030056050670712,
          18.462795368604084
         ],
         "title": {
          "text": "stddev (agg0)"
         },
         "type": "linear"
        }
       }
      },
      "image/png": "[encoded data removed]",
      "text/html": [
       "<div>                            <div id=\"3a8f533d-055f-42d8-9e40-cbcc07791c3a\" class=\"plotly-graph-div\" style=\"height:525px; width:100%;\"></div>            <script type=\"text/javascript\">                require([\"plotly\"], function(Plotly) {                    window.PLOTLYENV=window.PLOTLYENV || {};                                    if (document.getElementById(\"3a8f533d-055f-42d8-9e40-cbcc07791c3a\")) {                    Plotly.newPlot(                        \"3a8f533d-055f-42d8-9e40-cbcc07791c3a\",                        [{\"mode\":\"markers\",\"name\":\"not (readings.voltage=2.54901 AND readings.moteid=35) -- score: -0.09096447868858136\",\"x\":[763200,766800,770400,774000,777600,781200,784800,788400,792000,795600,799200,802800,806400,810000,813600,817200,820800,824400,828000,831600,835200,838800,842400,846000,849600,853200,856800,860400,864000,867600,871200,874800,878400,882000,885600,889200,892800,896400,900000,903600,907200,910800,914400,918000,921600,925200,928800,932400,936000,939600,943200,946800,950400,954000,957600,961200,964800,968400,972000,975600,979200,982800,1098000,1101600,1105200,1108800,1112400,1116000,1119600,1123200,1126800,1130400,1134000,1137600,1141200,1144800,1148400,1152000,1155600,1159200,1162800,1166400,1170000,1173600,1177200,1180800,1184400,1188000,1191600,1195200,1198800,1202400,1206000,1209600,1213200,1216800,1220400,1224000,1227600,1231200,1234800,1238400,1242000,1245600,1249200,1252800,1256400,1260000,1263600,1267200,1270800,1274400,1278000,1281600,1285200,1288800,1292400,295200,3600,7200,10800,14400,18000,21600,25200,28800,36000,39600,43200,46800,50400,54000,57600,61200,64800,68400,72000,75600,1069200,1072800,79200,1076400,82800,1080000,86400,1083600,90000,1087200,93600,1090800,97200,1094400,100800,104400,108000,111600,115200,118800,122400,126000,129600,133200,136800,140400,144000,147600,151200,154800,158400,162000,165600,169200,172800,176400,180000,183600,187200,190800,194400,198000,201600,205200,208800,212400,216000,219600,223200,226800,230400,234000,237600,241200,244800,248400,252000,255600,259200,262800,266400,270000,273600,277200,280800,284400,288000,291600,298800,302400,306000,309600,313200,316800,320400,324000,327600,331200,334800,338400,342000,345600,349200,352800,356400,360000,363600,367200,370800,374400,378000,381600,385200,388800,392400,396000,399600,403200,406800,410400,414000,417600,421200,424800,428400,432000,435600,439200,442800,446400,450000,453600,457200,460800,464400,468000,471600,475200,478800,482400,486000,489600,493200,496800,500400,504000,507600,511200,514800,518400,522000,525600,529200,532800,536400,540000,543600,547200,550800,554400,558000,561600,565200,568800,572400,576000,579600,583200,586800,590400,594000,597600,601200,604800,608400,612000,615600,619200,622800,626400,630000,633600,637200,640800,644400,648000,651600,655200,658800,662400,666000,669600,673200,676800,680400,684000,687600,691200,694800,698400,702000,705600,709200,712800,716400,720000,723600,727200,730800,734400,738000,741600,745200,748800,752400,756000,759600,32400,0],\"y\":[0.8558774229138716,0.7957722003062584,0.7393425131140692,0.7277709605705982,0.7115503037561518,0.6836167992047172,0.6880972986256713,0.7100335587325984,0.7501653185445144,0.8205342150612578,0.8698825165986774,3.014720076478424,3.9798723861139274,4.471783383855965,4.209617519756363,3.174058585676625,3.1920653781562107,3.195209189954575,2.9626276424493603,2.8614745702487023,2.9145733459815806,2.9067043047228838,3.113592805838401,2.8328501319658845,3.4431316200028466,4.247045472277412,4.7367966605942415,5.33690343642611,6.266281184001594,7.150443281683704,9.4743340036796,10.51785914378991,11.806411212082132,13.669921152145616,14.221354291017725,14.709702130259608,14.327363638881062,16.021645652763183,15.172680265509388,14.6107857652776,15.308034203247855,15.925828728056992,15.696796776227908,15.135519738729622,15.233881030334683,15.202570593458605,15.019872941762278,14.970259157493993,14.356798742056302,14.3094695623427,15.067368722327917,14.42679531511336,15.093494990556756,15.311837369445348,14.874186202660562,15.069196006766767,15.003148768485906,14.914480388043884,14.503906846257362,15.002479388160191,14.236885714381884,10.63136738937781,11.492402581811508,15.482284672542717,15.30700340980035,15.580569816643438,15.803217048330474,15.821439406049695,16.072484298855358,15.569602280101375,15.669419381216667,16.38399532494514,15.751624447148938,16.074519591089917,16.2916602137597,16.361653222519983,14.936664147158023,16.634111054579122,16.66655915589275,16.360778951877617,15.200833742313511,14.96319563492317,15.959230442853016,16.371297800744117,16.309451898697844,15.980324708995916,16.227235045676405,15.90090039420357,16.773233387024668,15.648707426508944,16.42309851801046,16.449547999061657,16.458636964051856,16.797924681207338,16.583049675184853,16.26214267116879,17.013955271425765,16.93997512238139,16.84310185473886,16.147246357867687,16.94097375850205,15.88665004302017,16.13663871089116,16.405861060902062,15.513444515971564,15.742852494586916,15.888727832294917,15.284492257229894,15.596239380224715,14.484377930875375,15.352240827089883,14.427888835174047,16.05726910180365,15.828693686798982,16.43830544413657,16.226680242427104,17.091051132969042,4.98695883990408,0.8290445015730488,0.902911809381293,0.9037330897585392,0.9202232877683072,0.9418881081667444,0.8826977318358833,1.1316701366243027,1.8960012905195989,2.3454496543655323,2.1336942529024365,1.8776039671010165,1.8138404833820088,1.2488005049157576,1.753637612023472,1.2787470080540757,0.519451527179741,0.5201779231957939,0.5485487933519899,0.6435685933993649,0.7761013700278673,5.93327181468542,7.492698761797676,0.7443532414669345,8.160825725475846,0.7347755438701649,8.209433835280166,0.7537599208339795,6.585386436508879,0.8003456890296383,7.33916047219881,0.7894428953211018,7.614307409371614,0.8095258113420754,8.070311958376454,0.8884900851771265,0.913763910851303,0.9210040890627981,0.8893272826612152,1.6353580487732218,1.601641814404966,1.4195778667174457,1.3796602780175617,1.102402254743113,0.9764753092944853,0.8458807478909773,0.668941040857473,0.5773870966880689,0.5846037083849158,0.5742232140722329,0.5885761824353949,0.6202746819375006,0.6263601636146396,0.7464986883987549,0.7809880523706466,0.6945598557577775,0.6675921595017712,0.7406371709684129,0.7715413004096381,0.7278308559622855,0.7957748739601161,0.8482006273926643,1.952675284509589,2.058766511529862,1.6013134022158773,1.5619072258234923,2.0429401316405134,2.4863288870038187,3.1619192941717373,3.3756397871277755,3.074183383369877,3.153523212002473,3.129483195131781,1.2827632049612048,0.653516991205816,0.7821703510537058,0.8442864702424803,0.919583235150058,0.9494562138096595,0.992747199783024,0.9170360670422486,0.886894739979173,0.9246729470339247,0.9345682776486534,0.9780287635923978,0.9850312947816744,6.446981732511107,8.694951822723027,9.738754398191315,5.153286162105681,4.172657364998516,11.266554223074108,2.3888636906282015,3.7771941843537546,1.690661215119433,1.2659539645480102,0.8962126951323383,0.6885514406906961,0.6603075758293946,0.644378718602045,0.8176349536767132,0.6429755755338583,0.6180800304392833,0.6561849725058914,0.7534049406555935,0.6942402677442062,0.7842087482092093,0.6410841136039475,0.6055668771826306,2.6148433192399883,2.8353895159694855,3.7937617403202353,4.127397835053812,4.1350303457386435,9.003276632293101,8.898252090211528,8.212492638218878,11.114570461040092,11.910108862942899,9.951027224275999,1.3558116103645323,0.7578582810266801,3.2791980921508554,1.3407426696862808,0.85962677395064,1.1389889767266275,0.9921045719280421,1.0044555859650994,0.9452085079517387,0.9242047729355459,0.9418266757628415,0.9320706651990054,0.9483509725092915,2.39865222164801,2.7247048435641807,3.775335889107591,4.157114654629559,4.55616971933642,4.674838596926064,4.5773782838280495,2.517889749442326,1.8400711352777837,1.4326301928580947,1.2494172803033523,0.7351023663495859,0.6374596157656043,0.7418805863045527,0.6996059252076476,0.6643525433670259,0.6786083250749003,0.6694258029460592,0.6002858314025017,0.6216073949378185,0.687190184636051,0.6965664674513956,0.6326249591473525,0.5668993831919626,3.0484338828572994,5.78036544841892,3.770413917793256,3.7537555289465354,2.5684454026119448,2.0655015054258934,2.4535294045263742,1.8493273282293405,1.5197497856200568,1.3504427262403849,1.1194020974763217,0.6090020330200189,0.5069987062487948,0.4753606226502226,0.4786098242254226,0.4738091960637289,0.4687386305679688,0.5245671623334375,0.5193446598919946,0.5245125478265359,0.5137041379505647,0.5246710301548431,0.5426631339620538,0.5539380546839199,0.8744341044542222,1.765397429270845,2.09064406895613,2.4038032833689376,2.584557801629398,2.5903622064266547,2.264315914370514,1.7895817788088342,1.6982203652335095,1.5801585184080553,1.6024736631515941,0.9073007462319682,0.710670365900987,0.6503135207090796,0.6421245485857179,0.6158228844793536,0.7002273122429767,0.5879676979479374,0.5933961117286229,0.6080617786854395,0.6192063822262494,0.6404799719441816,0.6581307659317985,0.6623138362562275,0.9831115896669562,1.8010019865267064,2.3362704860284658,2.5547581625306353,2.70116876159246,2.771526931257832,2.55674785467221,2.2245194949673714,2.1107732100138095,2.272468409564265,2.035517886294024,1.2274122758164643,0.9513739273459721,2.3329260205306284,3.5146809915121415],\"type\":\"scatter\"}],                        {\"template\":{\"data\":{\"histogram2dcontour\":[{\"type\":\"histogram2dcontour\",\"colorbar\":{\"outlinewidth\":0,\"ticks\":\"\"},\"colorscale\":[[0.0,\"#0d0887\"],[0.1111111111111111,\"#46039f\"],[0.2222222222222222,\"#7201a8\"],[0.3333333333333333,\"#9c179e\"],[0.4444444444444444,\"#bd3786\"],[0.5555555555555556,\"#d8576b\"],[0.6666666666666666,\"#ed7953\"],[0.7777777777777778,\"#fb9f3a\"],[0.8888888888888888,\"#fdca26\"],[1.0,\"#f0f921\"]]}],\"choropleth\":[{\"type\":\"choropleth\",\"colorbar\":{\"outlinewidth\":0,\"ticks\":\"\"}}],\"histogram2d\":[{\"type\":\"histogram2d\",\"colorbar\":{\"outlinewidth\":0,\"ticks\":\"\"},\"colorscale\":[[0.0,\"#0d0887\"],[0.1111111111111111,\"#46039f\"],[0.2222222222222222,\"#7201a8\"],[0.3333333333333333,\"#9c179e\"],[0.4444444444444444,\"#bd3786\"],[0.5555555555555556,\"#d8576b\"],[0.6666666666666666,\"#ed7953\"],[0.7777777777777778,\"#fb9f3a\"],[0.8888888888888888,\"#fdca26\"],[1.0,\"#f0f921\"]]}],\"heatmap\":[{\"type\":\"heatmap\",\"colorbar\":{\"outlinewidth\":0,\"ticks\":\"\"},\"colorscale\":[[0.0,\"#0d0887\"],[0.1111111111111111,\"#46039f\"],[0.2222222222222222,\"#7201a8\"],[0.3333333333333333,\"#9c179e\"],[0.4444444444444444,\"#bd3786\"],[0.5555555555555556,\"#d8576b\"],[0.6666666666666666,\"#ed7953\"],[0.7777777777777778,\"#fb9f3a\"],[0.8888888888888888,\"#fdca26\"],[1.0,\"#f0f921\"]]}],\"heatmapgl\":[{\"type\":\"heatmapgl\",\"colorbar\":{\"outlinewidth\":0,\"ticks\":\"\"},\"colorscale\":[[0.0,\"#0d0887\"],[0.1111111111111111,\"#46039f\"],[0.2222222222222222,\"#7201a8\"],[0.3333333333333333,\"#9c179e\"],[0.4444444444444444,\"#bd3786\"],[0.5555555555555556,\"#d8576b\"],[0.6666666666666666,\"#ed7953\"],[0.7777777777777778,\"#fb9f3a\"],[0.8888888888888888,\"#fdca26\"],[1.0,\"#f0f921\"]]}],\"contourcarpet\":[{\"type\":\"contourcarpet\",\"colorbar\":{\"outlinewidth\":0,\"ticks\":\"\"}}],\"contour\":[{\"type\":\"contour\",\"colorbar\":{\"outlinewidth\":0,\"ticks\":\"\"},\"colorscale\":[[0.0,\"#0d0887\"],[0.1111111111111111,\"#46039f\"],[0.2222222222222222,\"#7201a8\"],[0.3333333333333333,\"#9c179e\"],[0.4444444444444444,\"#bd3786\"],[0.5555555555555556,\"#d8576b\"],[0.6666666666666666,\"#ed7953\"],[0.7777777777777778,\"#fb9f3a\"],[0.8888888888888888,\"#fdca26\"],[1.0,\"#f0f921\"]]}],\"surface\":[{\"type\":\"surface\",\"colorbar\":{\"outlinewidth\":0,\"ticks\":\"\"},\"colorscale\":[[0.0,\"#0d0887\"],[0.1111111111111111,\"#46039f\"],[0.2222222222222222,\"#7201a8\"],[0.3333333333333333,\"#9c179e\"],[0.4444444444444444,\"#bd3786\"],[0.5555555555555556,\"#d8576b\"],[0.6666666666666666,\"#ed7953\"],[0.7777777777777778,\"#fb9f3a\"],[0.8888888888888888,\"#fdca26\"],[1.0,\"#f0f921\"]]}],\"mesh3d\":[{\"type\":\"mesh3d\",\"colorbar\":{\"outlinewidth\":0,\"ticks\":\"\"}}],\"scatter\":[{\"fillpattern\":{\"fillmode\":\"overlay\",\"size\":10,\"solidity\":0.2},\"type\":\"scatter\"}],\"parcoords\":[{\"type\":\"parcoords\",\"line\":{\"colorbar\":{\"outlinewidth\":0,\"ticks\":\"\"}}}],\"scatterpolargl\":[{\"type\":\"scatterpolargl\",\"marker\":{\"colorbar\":{\"outlinewidth\":0,\"ticks\":\"\"}}}],\"bar\":[{\"error_x\":{\"color\":\"#2a3f5f\"},\"error_y\":{\"color\":\"#2a3f5f\"},\"marker\":{\"line\":{\"color\":\"#E5ECF6\",\"width\":0.5},\"pattern\":{\"fillmode\":\"overlay\",\"size\":10,\"solidity\":0.2}},\"type\":\"bar\"}],\"scattergeo\":[{\"type\":\"scattergeo\",\"marker\":{\"colorbar\":{\"outlinewidth\":0,\"ticks\":\"\"}}}],\"scatterpolar\":[{\"type\":\"scatterpolar\",\"marker\":{\"colorbar\":{\"outlinewidth\":0,\"ticks\":\"\"}}}],\"histogram\":[{\"marker\":{\"pattern\":{\"fillmode\":\"overlay\",\"size\":10,\"solidity\":0.2}},\"type\":\"histogram\"}],\"scattergl\":[{\"type\":\"scattergl\",\"marker\":{\"colorbar\":{\"outlinewidth\":0,\"ticks\":\"\"}}}],\"scatter3d\":[{\"type\":\"scatter3d\",\"line\":{\"colorbar\":{\"outlinewidth\":0,\"ticks\":\"\"}},\"marker\":{\"colorbar\":{\"outlinewidth\":0,\"ticks\":\"\"}}}],\"scattermapbox\":[{\"type\":\"scattermapbox\",\"marker\":{\"colorbar\":{\"outlinewidth\":0,\"ticks\":\"\"}}}],\"scatterternary\":[{\"type\":\"scatterternary\",\"marker\":{\"colorbar\":{\"outlinewidth\":0,\"ticks\":\"\"}}}],\"scattercarpet\":[{\"type\":\"scattercarpet\",\"marker\":{\"colorbar\":{\"outlinewidth\":0,\"ticks\":\"\"}}}],\"carpet\":[{\"aaxis\":{\"endlinecolor\":\"#2a3f5f\",\"gridcolor\":\"white\",\"linecolor\":\"white\",\"minorgridcolor\":\"white\",\"startlinecolor\":\"#2a3f5f\"},\"baxis\":{\"endlinecolor\":\"#2a3f5f\",\"gridcolor\":\"white\",\"linecolor\":\"white\",\"minorgridcolor\":\"white\",\"startlinecolor\":\"#2a3f5f\"},\"type\":\"carpet\"}],\"table\":[{\"cells\":{\"fill\":{\"color\":\"#EBF0F8\"},\"line\":{\"color\":\"white\"}},\"header\":{\"fill\":{\"color\":\"#C8D4E3\"},\"line\":{\"color\":\"white\"}},\"type\":\"table\"}],\"barpolar\":[{\"marker\":{\"line\":{\"color\":\"#E5ECF6\",\"width\":0.5},\"pattern\":{\"fillmode\":\"overlay\",\"size\":10,\"solidity\":0.2}},\"type\":\"barpolar\"}],\"pie\":[{\"automargin\":true,\"type\":\"pie\"}]},\"layout\":{\"autotypenumbers\":\"strict\",\"colorway\":[\"#636efa\",\"#EF553B\",\"#00cc96\",\"#ab63fa\",\"#FFA15A\",\"#19d3f3\",\"#FF6692\",\"#B6E880\",\"#FF97FF\",\"#FECB52\"],\"font\":{\"color\":\"#2a3f5f\"},\"hovermode\":\"closest\",\"hoverlabel\":{\"align\":\"left\"},\"paper_bgcolor\":\"white\",\"plot_bgcolor\":\"#E5ECF6\",\"polar\":{\"bgcolor\":\"#E5ECF6\",\"angularaxis\":{\"gridcolor\":\"white\",\"linecolor\":\"white\",\"ticks\":\"\"},\"radialaxis\":{\"gridcolor\":\"white\",\"linecolor\":\"white\",\"ticks\":\"\"}},\"ternary\":{\"bgcolor\":\"#E5ECF6\",\"aaxis\":{\"gridcolor\":\"white\",\"linecolor\":\"white\",\"ticks\":\"\"},\"baxis\":{\"gridcolor\":\"white\",\"linecolor\":\"white\",\"ticks\":\"\"},\"caxis\":{\"gridcolor\":\"white\",\"linecolor\":\"white\",\"ticks\":\"\"}},\"coloraxis\":{\"colorbar\":{\"outlinewidth\":0,\"ticks\":\"\"}},\"colorscale\":{\"sequential\":[[0.0,\"#0d0887\"],[0.1111111111111111,\"#46039f\"],[0.2222222222222222,\"#7201a8\"],[0.3333333333333333,\"#9c179e\"],[0.4444444444444444,\"#bd3786\"],[0.5555555555555556,\"#d8576b\"],[0.6666666666666666,\"#ed7953\"],[0.7777777777777778,\"#fb9f3a\"],[0.8888888888888888,\"#fdca26\"],[1.0,\"#f0f921\"]],\"sequentialminus\":[[0.0,\"#0d0887\"],[0.1111111111111111,\"#46039f\"],[0.2222222222222222,\"#7201a8\"],[0.3333333333333333,\"#9c179e\"],[0.4444444444444444,\"#bd3786\"],[0.5555555555555556,\"#d8576b\"],[0.6666666666666666,\"#ed7953\"],[0.7777777777777778,\"#fb9f3a\"],[0.8888888888888888,\"#fdca26\"],[1.0,\"#f0f921\"]],\"diverging\":[[0,\"#8e0152\"],[0.1,\"#c51b7d\"],[0.2,\"#de77ae\"],[0.3,\"#f1b6da\"],[0.4,\"#fde0ef\"],[0.5,\"#f7f7f7\"],[0.6,\"#e6f5d0\"],[0.7,\"#b8e186\"],[0.8,\"#7fbc41\"],[0.9,\"#4d9221\"],[1,\"#276419\"]]},\"xaxis\":{\"gridcolor\":\"white\",\"linecolor\":\"white\",\"ticks\":\"\",\"title\":{\"standoff\":15},\"zerolinecolor\":\"white\",\"automargin\":true,\"zerolinewidth\":2},\"yaxis\":{\"gridcolor\":\"white\",\"linecolor\":\"white\",\"ticks\":\"\",\"title\":{\"standoff\":15},\"zerolinecolor\":\"white\",\"automargin\":true,\"zerolinewidth\":2},\"scene\":{\"xaxis\":{\"backgroundcolor\":\"#E5ECF6\",\"gridcolor\":\"white\",\"linecolor\":\"white\",\"showbackground\":true,\"ticks\":\"\",\"zerolinecolor\":\"white\",\"gridwidth\":2},\"yaxis\":{\"backgroundcolor\":\"#E5ECF6\",\"gridcolor\":\"white\",\"linecolor\":\"white\",\"showbackground\":true,\"ticks\":\"\",\"zerolinecolor\":\"white\",\"gridwidth\":2},\"zaxis\":{\"backgroundcolor\":\"#E5ECF6\",\"gridcolor\":\"white\",\"linecolor\":\"white\",\"showbackground\":true,\"ticks\":\"\",\"zerolinecolor\":\"white\",\"gridwidth\":2}},\"shapedefaults\":{\"line\":{\"color\":\"#2a3f5f\"}},\"annotationdefaults\":{\"arrowcolor\":\"#2a3f5f\",\"arrowhead\":0,\"arrowwidth\":1},\"geo\":{\"bgcolor\":\"white\",\"landcolor\":\"#E5ECF6\",\"subunitcolor\":\"white\",\"showland\":true,\"showlakes\":true,\"lakecolor\":\"white\"},\"title\":{\"x\":0.05},\"mapbox\":{\"style\":\"light\"}}},\"title\":{\"text\":\"Stddev (agg0) for not (readings.voltage=2.54901 AND readings.moteid=35) -- score: -0.09096447868858136 \"},\"xaxis\":{\"title\":{\"text\":\"hrint\"}},\"yaxis\":{\"title\":{\"text\":\"stddev (agg0)\"}}},                        {\"responsive\": true}                    ).then(function(){\n",
       "                            \n",
       "var gd = document.getElementById('3a8f533d-055f-42d8-9e40-cbcc07791c3a');\n",
       "var x = new MutationObserver(function (mutations, observer) {{\n",
       "        var display = window.getComputedStyle(gd).display;\n",
       "        if (!display || display === 'none') {{\n",
       "            console.log([gd, 'removed!']);\n",
       "            Plotly.purge(gd);\n",
       "            observer.disconnect();\n",
       "        }}\n",
       "}});\n",
       "\n",
       "// Listen for the removal of the full notebook cells\n",
       "var notebookContainer = gd.closest('#notebook-container');\n",
       "if (notebookContainer) {{\n",
       "    x.observe(notebookContainer, {childList: true});\n",
       "}}\n",
       "\n",
       "// Listen for the clearing of the current output cell\n",
       "var outputEl = gd.closest('.output');\n",
       "if (outputEl) {{\n",
       "    x.observe(outputEl, {childList: true});\n",
       "}}\n",
       "\n",
       "                        })                };                });            </script>        </div>"
      ]
     },
     "metadata": {},
     "output_type": "display_data"
    },
    {
     "data": {
      "application/vnd.plotly.v1+json": {
       "config": {
        "plotlyServerURL": "https://plot.ly"
       },
       "data": [
        {
         "mode": "markers",
         "name": "not (readings.voltage=2.59354 AND readings.moteid=30) -- score: -0.09096651780530884",
         "type": "scatter",
         "x": [
          763200,
          766800,
          770400,
          774000,
          777600,
          781200,
          784800,
          788400,
          792000,
          795600,
          799200,
          802800,
          806400,
          810000,
          813600,
          817200,
          820800,
          824400,
          828000,
          831600,
          835200,
          838800,
          842400,
          846000,
          849600,
          853200,
          856800,
          860400,
          864000,
          867600,
          871200,
          874800,
          878400,
          882000,
          885600,
          889200,
          892800,
          896400,
          900000,
          903600,
          907200,
          910800,
          914400,
          918000,
          921600,
          925200,
          928800,
          932400,
          936000,
          939600,
          943200,
          946800,
          950400,
          954000,
          957600,
          961200,
          964800,
          968400,
          972000,
          975600,
          979200,
          982800,
          1098000,
          1101600,
          1105200,
          1108800,
          1112400,
          1116000,
          1119600,
          1123200,
          1126800,
          1130400,
          1134000,
          1137600,
          1141200,
          1144800,
          1148400,
          1152000,
          1155600,
          1159200,
          1162800,
          1166400,
          1170000,
          1173600,
          1177200,
          1180800,
          1184400,
          1188000,
          1191600,
          1195200,
          1198800,
          1202400,
          1206000,
          1209600,
          1213200,
          1216800,
          1220400,
          1224000,
          1227600,
          1231200,
          1234800,
          1238400,
          1242000,
          1245600,
          1249200,
          1252800,
          1256400,
          1260000,
          1263600,
          1267200,
          1270800,
          1274400,
          1278000,
          1281600,
          1285200,
          1288800,
          1292400,
          295200,
          3600,
          7200,
          10800,
          14400,
          18000,
          21600,
          25200,
          28800,
          36000,
          39600,
          43200,
          46800,
          50400,
          54000,
          57600,
          61200,
          64800,
          68400,
          72000,
          75600,
          1069200,
          1072800,
          79200,
          1076400,
          82800,
          1080000,
          86400,
          1083600,
          90000,
          1087200,
          93600,
          1090800,
          97200,
          1094400,
          100800,
          104400,
          108000,
          111600,
          115200,
          118800,
          122400,
          126000,
          129600,
          133200,
          136800,
          140400,
          144000,
          147600,
          151200,
          154800,
          158400,
          162000,
          165600,
          169200,
          172800,
          176400,
          180000,
          183600,
          187200,
          190800,
          194400,
          198000,
          201600,
          205200,
          208800,
          212400,
          216000,
          219600,
          223200,
          226800,
          230400,
          234000,
          237600,
          241200,
          244800,
          248400,
          252000,
          255600,
          259200,
          262800,
          266400,
          270000,
          273600,
          277200,
          280800,
          284400,
          288000,
          291600,
          298800,
          302400,
          306000,
          309600,
          313200,
          316800,
          320400,
          324000,
          327600,
          331200,
          334800,
          338400,
          342000,
          345600,
          349200,
          352800,
          356400,
          360000,
          363600,
          367200,
          370800,
          374400,
          378000,
          381600,
          385200,
          388800,
          392400,
          396000,
          399600,
          403200,
          406800,
          410400,
          414000,
          417600,
          421200,
          424800,
          428400,
          432000,
          435600,
          439200,
          442800,
          446400,
          450000,
          453600,
          457200,
          460800,
          464400,
          468000,
          471600,
          475200,
          478800,
          482400,
          486000,
          489600,
          493200,
          496800,
          500400,
          504000,
          507600,
          511200,
          514800,
          518400,
          522000,
          525600,
          529200,
          532800,
          536400,
          540000,
          543600,
          547200,
          550800,
          554400,
          558000,
          561600,
          565200,
          568800,
          572400,
          576000,
          579600,
          583200,
          586800,
          590400,
          594000,
          597600,
          601200,
          604800,
          608400,
          612000,
          615600,
          619200,
          622800,
          626400,
          630000,
          633600,
          637200,
          640800,
          644400,
          648000,
          651600,
          655200,
          658800,
          662400,
          666000,
          669600,
          673200,
          676800,
          680400,
          684000,
          687600,
          691200,
          694800,
          698400,
          702000,
          705600,
          709200,
          712800,
          716400,
          720000,
          723600,
          727200,
          730800,
          734400,
          738000,
          741600,
          745200,
          748800,
          752400,
          756000,
          759600,
          32400,
          0
         ],
         "y": [
          0.8558774229138716,
          0.7957722003062584,
          0.7393425131140692,
          0.7277709605705982,
          0.7115503037561518,
          0.6836167992047172,
          0.688064079364441,
          0.709592375872606,
          0.7498785214858508,
          0.8204808712794464,
          0.8681371627780589,
          3.014468114367976,
          3.9794798698414287,
          4.471783383855965,
          4.208422113611067,
          3.174058585676625,
          3.1920653781562107,
          3.195209189954575,
          2.9620868191546923,
          2.8532172549660415,
          2.9095697934058773,
          2.897896767534213,
          3.112727687312347,
          2.8328501319658845,
          3.4431316200028466,
          4.247045472277412,
          4.7367966605942415,
          5.33690343642611,
          6.26627060686989,
          7.119352380322881,
          9.408164405484499,
          10.47149838721925,
          11.808747123808226,
          13.67832576065855,
          14.223084351957331,
          14.658480901567637,
          14.272048398124035,
          16.071194454948937,
          15.168926331189752,
          14.494715947250471,
          15.218898489570403,
          15.854349369574914,
          15.589038274994179,
          15.104080678655093,
          15.261951104060552,
          15.204364518513298,
          14.961637041749897,
          14.877069499066218,
          14.243520618464641,
          14.26884489030084,
          15.017617985899545,
          14.418110895012042,
          15.091307946065934,
          15.355015768291388,
          14.874167068124665,
          15.075881595506424,
          15.003148768485906,
          14.922406291026174,
          14.507002246140404,
          15.012557458300401,
          14.245908163911446,
          10.718299169611468,
          11.492402581811508,
          15.482284672542717,
          15.30700340980035,
          15.580569816643438,
          15.803217048330474,
          15.821439406049695,
          16.072484298855358,
          15.569602280101375,
          15.669419381216667,
          16.38399532494514,
          15.751624447148938,
          16.074519591089917,
          16.2916602137597,
          16.361653222519983,
          14.936664147158023,
          16.634111054579122,
          16.66655915589275,
          16.360778951877617,
          15.200833742313511,
          14.96319563492317,
          15.959230442853016,
          16.371297800744117,
          16.309451898697844,
          15.980324708995916,
          16.227235045676405,
          15.90090039420357,
          16.773233387024668,
          15.648707426508944,
          16.42309851801046,
          16.449547999061657,
          16.458636964051856,
          16.797924681207338,
          16.583049675184853,
          16.26214267116879,
          17.013955271425765,
          16.93997512238139,
          16.84310185473886,
          16.147246357867687,
          16.94097375850205,
          15.88665004302017,
          16.154219546074767,
          16.40813876149048,
          15.513444515971564,
          15.734259391075987,
          15.855793602974734,
          15.278325535273131,
          15.596239380224715,
          14.52254210744766,
          15.352240827089883,
          14.427888835174047,
          16.05726910180365,
          15.828693686798982,
          16.43830544413657,
          16.226680242427104,
          17.091051132969042,
          4.98695883990408,
          0.8290445015730488,
          0.902911809381293,
          0.9037330897585392,
          0.9202232877683072,
          0.9418881081667444,
          0.8826977318358833,
          1.1316701366243027,
          1.8960012905195989,
          2.3454496543655323,
          2.1336942529024365,
          1.8776039671010165,
          1.8138404833820088,
          1.2488005049157576,
          1.753637612023472,
          1.2787470080540757,
          0.519451527179741,
          0.5201779231957939,
          0.5485487933519899,
          0.6435685933993649,
          0.7761013700278673,
          5.93327181468542,
          7.492698761797676,
          0.7443532414669345,
          8.166856151305694,
          0.7347755438701649,
          8.227448104620898,
          0.7537599208339795,
          6.595024845573011,
          0.8003456890296383,
          7.33916047219881,
          0.7894428953211018,
          7.614307409371614,
          0.8095258113420754,
          8.070311958376454,
          0.8884900851771265,
          0.913763910851303,
          0.9210040890627981,
          0.8893272826612152,
          1.6353580487732218,
          1.601641814404966,
          1.4195778667174457,
          1.3796602780175617,
          1.102402254743113,
          0.9764753092944853,
          0.8458807478909773,
          0.668941040857473,
          0.5773870966880689,
          0.5846037083849158,
          0.5742232140722329,
          0.5885761824353949,
          0.6202746819375006,
          0.6263601636146396,
          0.7464986883987549,
          0.7809880523706466,
          0.6945598557577775,
          0.6675921595017712,
          0.7406371709684129,
          0.7715413004096381,
          0.7278308559622855,
          0.7957748739601161,
          0.8482006273926643,
          1.952675284509589,
          2.058766511529862,
          1.6013134022158773,
          1.5619072258234923,
          2.0429401316405134,
          2.4863288870038187,
          3.1619192941717373,
          3.3756397871277755,
          3.074183383369877,
          3.153523212002473,
          3.129483195131781,
          1.2827632049612048,
          0.653516991205816,
          0.7821703510537058,
          0.8442864702424803,
          0.919583235150058,
          0.9494562138096595,
          0.992747199783024,
          0.9170360670422486,
          0.886894739979173,
          0.9246729470339247,
          0.9345682776486534,
          0.9780287635923978,
          0.9850312947816744,
          6.446981732511107,
          8.694951822723027,
          9.738754398191315,
          5.153286162105681,
          4.172657364998516,
          11.266554223074108,
          2.3888636906282015,
          3.7771941843537546,
          1.690661215119433,
          1.2659539645480102,
          0.8962126951323383,
          0.6885514406906961,
          0.6603075758293946,
          0.644378718602045,
          0.8176349536767132,
          0.6429755755338583,
          0.6180800304392833,
          0.6561849725058914,
          0.7534049406555935,
          0.6942402677442062,
          0.7842087482092093,
          0.6410841136039475,
          0.6055668771826306,
          2.6148433192399883,
          2.8353895159694855,
          3.7937617403202353,
          4.127397835053812,
          4.1350303457386435,
          9.003276632293101,
          8.898252090211528,
          8.212492638218878,
          11.114570461040092,
          11.910108862942899,
          9.951027224275999,
          1.3558116103645323,
          0.7578582810266801,
          3.2791980921508554,
          1.3407426696862808,
          0.85962677395064,
          1.1389889767266275,
          0.9921045719280421,
          1.0044555859650994,
          0.9452085079517387,
          0.9242047729355459,
          0.9418102708013616,
          0.9314392931513442,
          0.9470187761028519,
          2.39865222164801,
          2.7247048435641807,
          3.775335889107591,
          4.157114654629559,
          4.55616971933642,
          4.674838596926064,
          4.5773782838280495,
          2.517889749442326,
          1.8400711352777837,
          1.4326301928580947,
          1.2494172803033523,
          0.7351023663495859,
          0.6374596157656043,
          0.7418805863045527,
          0.6996059252076476,
          0.6643525433670259,
          0.6786083250749003,
          0.6694258029460592,
          0.6002858314025017,
          0.6216073949378185,
          0.687190184636051,
          0.6969124177484813,
          0.6347614826417978,
          0.5689206157014879,
          3.0491760452369756,
          5.78036544841892,
          3.770413917793256,
          3.7537555289465354,
          2.5684454026119448,
          2.0655015054258934,
          2.4535294045263742,
          1.8493273282293405,
          1.5197497856200568,
          1.3504427262403849,
          1.1194020974763217,
          0.6090020330200189,
          0.5069987062487948,
          0.4753606226502226,
          0.4786098242254226,
          0.4738091960637289,
          0.4687386305679688,
          0.5238955098386072,
          0.5185848718614019,
          0.5224428361149596,
          0.5157064534611486,
          0.5251430396911599,
          0.5455492799190359,
          0.5577021529472359,
          0.8736001689539922,
          1.764016264255292,
          2.09064406895613,
          2.4038032833689376,
          2.584557801629398,
          2.5903622064266547,
          2.264315914370514,
          1.7895817788088342,
          1.6982203652335095,
          1.5801585184080553,
          1.6024736631515941,
          0.9073007462319682,
          0.710670365900987,
          0.6503135207090796,
          0.6421245485857179,
          0.6158228844793536,
          0.7002273122429767,
          0.5879676979479374,
          0.5933735147127119,
          0.6090432722276702,
          0.6243095733188201,
          0.6472432624771668,
          0.6670590907692572,
          0.6683809970374475,
          0.9807469678039248,
          1.8010019865267064,
          2.3362704860284658,
          2.5547581625306353,
          2.70116876159246,
          2.771526931257832,
          2.55674785467221,
          2.2245194949673714,
          2.1107732100138095,
          2.272468409564265,
          2.035517886294024,
          1.2274122758164643,
          0.9513739273459721,
          2.3329260205306284,
          3.5146809915121415
         ]
        }
       ],
       "layout": {
        "autosize": true,
        "template": {
         "data": {
          "bar": [
           {
            "error_x": {
             "color": "#2a3f5f"
            },
            "error_y": {
             "color": "#2a3f5f"
            },
            "marker": {
             "line": {
              "color": "#E5ECF6",
              "width": 0.5
             },
             "pattern": {
              "fillmode": "overlay",
              "size": 10,
              "solidity": 0.2
             }
            },
            "type": "bar"
           }
          ],
          "barpolar": [
           {
            "marker": {
             "line": {
              "color": "#E5ECF6",
              "width": 0.5
             },
             "pattern": {
              "fillmode": "overlay",
              "size": 10,
              "solidity": 0.2
             }
            },
            "type": "barpolar"
           }
          ],
          "carpet": [
           {
            "aaxis": {
             "endlinecolor": "#2a3f5f",
             "gridcolor": "white",
             "linecolor": "white",
             "minorgridcolor": "white",
             "startlinecolor": "#2a3f5f"
            },
            "baxis": {
             "endlinecolor": "#2a3f5f",
             "gridcolor": "white",
             "linecolor": "white",
             "minorgridcolor": "white",
             "startlinecolor": "#2a3f5f"
            },
            "type": "carpet"
           }
          ],
          "choropleth": [
           {
            "colorbar": {
             "outlinewidth": 0,
             "ticks": ""
            },
            "type": "choropleth"
           }
          ],
          "contour": [
           {
            "colorbar": {
             "outlinewidth": 0,
             "ticks": ""
            },
            "colorscale": [
             [
              0,
              "#0d0887"
             ],
             [
              0.1111111111111111,
              "#46039f"
             ],
             [
              0.2222222222222222,
              "#7201a8"
             ],
             [
              0.3333333333333333,
              "#9c179e"
             ],
             [
              0.4444444444444444,
              "#bd3786"
             ],
             [
              0.5555555555555556,
              "#d8576b"
             ],
             [
              0.6666666666666666,
              "#ed7953"
             ],
             [
              0.7777777777777778,
              "#fb9f3a"
             ],
             [
              0.8888888888888888,
              "#fdca26"
             ],
             [
              1,
              "#f0f921"
             ]
            ],
            "type": "contour"
           }
          ],
          "contourcarpet": [
           {
            "colorbar": {
             "outlinewidth": 0,
             "ticks": ""
            },
            "type": "contourcarpet"
           }
          ],
          "heatmap": [
           {
            "colorbar": {
             "outlinewidth": 0,
             "ticks": ""
            },
            "colorscale": [
             [
              0,
              "#0d0887"
             ],
             [
              0.1111111111111111,
              "#46039f"
             ],
             [
              0.2222222222222222,
              "#7201a8"
             ],
             [
              0.3333333333333333,
              "#9c179e"
             ],
             [
              0.4444444444444444,
              "#bd3786"
             ],
             [
              0.5555555555555556,
              "#d8576b"
             ],
             [
              0.6666666666666666,
              "#ed7953"
             ],
             [
              0.7777777777777778,
              "#fb9f3a"
             ],
             [
              0.8888888888888888,
              "#fdca26"
             ],
             [
              1,
              "#f0f921"
             ]
            ],
            "type": "heatmap"
           }
          ],
          "heatmapgl": [
           {
            "colorbar": {
             "outlinewidth": 0,
             "ticks": ""
            },
            "colorscale": [
             [
              0,
              "#0d0887"
             ],
             [
              0.1111111111111111,
              "#46039f"
             ],
             [
              0.2222222222222222,
              "#7201a8"
             ],
             [
              0.3333333333333333,
              "#9c179e"
             ],
             [
              0.4444444444444444,
              "#bd3786"
             ],
             [
              0.5555555555555556,
              "#d8576b"
             ],
             [
              0.6666666666666666,
              "#ed7953"
             ],
             [
              0.7777777777777778,
              "#fb9f3a"
             ],
             [
              0.8888888888888888,
              "#fdca26"
             ],
             [
              1,
              "#f0f921"
             ]
            ],
            "type": "heatmapgl"
           }
          ],
          "histogram": [
           {
            "marker": {
             "pattern": {
              "fillmode": "overlay",
              "size": 10,
              "solidity": 0.2
             }
            },
            "type": "histogram"
           }
          ],
          "histogram2d": [
           {
            "colorbar": {
             "outlinewidth": 0,
             "ticks": ""
            },
            "colorscale": [
             [
              0,
              "#0d0887"
             ],
             [
              0.1111111111111111,
              "#46039f"
             ],
             [
              0.2222222222222222,
              "#7201a8"
             ],
             [
              0.3333333333333333,
              "#9c179e"
             ],
             [
              0.4444444444444444,
              "#bd3786"
             ],
             [
              0.5555555555555556,
              "#d8576b"
             ],
             [
              0.6666666666666666,
              "#ed7953"
             ],
             [
              0.7777777777777778,
              "#fb9f3a"
             ],
             [
              0.8888888888888888,
              "#fdca26"
             ],
             [
              1,
              "#f0f921"
             ]
            ],
            "type": "histogram2d"
           }
          ],
          "histogram2dcontour": [
           {
            "colorbar": {
             "outlinewidth": 0,
             "ticks": ""
            },
            "colorscale": [
             [
              0,
              "#0d0887"
             ],
             [
              0.1111111111111111,
              "#46039f"
             ],
             [
              0.2222222222222222,
              "#7201a8"
             ],
             [
              0.3333333333333333,
              "#9c179e"
             ],
             [
              0.4444444444444444,
              "#bd3786"
             ],
             [
              0.5555555555555556,
              "#d8576b"
             ],
             [
              0.6666666666666666,
              "#ed7953"
             ],
             [
              0.7777777777777778,
              "#fb9f3a"
             ],
             [
              0.8888888888888888,
              "#fdca26"
             ],
             [
              1,
              "#f0f921"
             ]
            ],
            "type": "histogram2dcontour"
           }
          ],
          "mesh3d": [
           {
            "colorbar": {
             "outlinewidth": 0,
             "ticks": ""
            },
            "type": "mesh3d"
           }
          ],
          "parcoords": [
           {
            "line": {
             "colorbar": {
              "outlinewidth": 0,
              "ticks": ""
             }
            },
            "type": "parcoords"
           }
          ],
          "pie": [
           {
            "automargin": true,
            "type": "pie"
           }
          ],
          "scatter": [
           {
            "fillpattern": {
             "fillmode": "overlay",
             "size": 10,
             "solidity": 0.2
            },
            "type": "scatter"
           }
          ],
          "scatter3d": [
           {
            "line": {
             "colorbar": {
              "outlinewidth": 0,
              "ticks": ""
             }
            },
            "marker": {
             "colorbar": {
              "outlinewidth": 0,
              "ticks": ""
             }
            },
            "type": "scatter3d"
           }
          ],
          "scattercarpet": [
           {
            "marker": {
             "colorbar": {
              "outlinewidth": 0,
              "ticks": ""
             }
            },
            "type": "scattercarpet"
           }
          ],
          "scattergeo": [
           {
            "marker": {
             "colorbar": {
              "outlinewidth": 0,
              "ticks": ""
             }
            },
            "type": "scattergeo"
           }
          ],
          "scattergl": [
           {
            "marker": {
             "colorbar": {
              "outlinewidth": 0,
              "ticks": ""
             }
            },
            "type": "scattergl"
           }
          ],
          "scattermapbox": [
           {
            "marker": {
             "colorbar": {
              "outlinewidth": 0,
              "ticks": ""
             }
            },
            "type": "scattermapbox"
           }
          ],
          "scatterpolar": [
           {
            "marker": {
             "colorbar": {
              "outlinewidth": 0,
              "ticks": ""
             }
            },
            "type": "scatterpolar"
           }
          ],
          "scatterpolargl": [
           {
            "marker": {
             "colorbar": {
              "outlinewidth": 0,
              "ticks": ""
             }
            },
            "type": "scatterpolargl"
           }
          ],
          "scatterternary": [
           {
            "marker": {
             "colorbar": {
              "outlinewidth": 0,
              "ticks": ""
             }
            },
            "type": "scatterternary"
           }
          ],
          "surface": [
           {
            "colorbar": {
             "outlinewidth": 0,
             "ticks": ""
            },
            "colorscale": [
             [
              0,
              "#0d0887"
             ],
             [
              0.1111111111111111,
              "#46039f"
             ],
             [
              0.2222222222222222,
              "#7201a8"
             ],
             [
              0.3333333333333333,
              "#9c179e"
             ],
             [
              0.4444444444444444,
              "#bd3786"
             ],
             [
              0.5555555555555556,
              "#d8576b"
             ],
             [
              0.6666666666666666,
              "#ed7953"
             ],
             [
              0.7777777777777778,
              "#fb9f3a"
             ],
             [
              0.8888888888888888,
              "#fdca26"
             ],
             [
              1,
              "#f0f921"
             ]
            ],
            "type": "surface"
           }
          ],
          "table": [
           {
            "cells": {
             "fill": {
              "color": "#EBF0F8"
             },
             "line": {
              "color": "white"
             }
            },
            "header": {
             "fill": {
              "color": "#C8D4E3"
             },
             "line": {
              "color": "white"
             }
            },
            "type": "table"
           }
          ]
         },
         "layout": {
          "annotationdefaults": {
           "arrowcolor": "#2a3f5f",
           "arrowhead": 0,
           "arrowwidth": 1
          },
          "autotypenumbers": "strict",
          "coloraxis": {
           "colorbar": {
            "outlinewidth": 0,
            "ticks": ""
           }
          },
          "colorscale": {
           "diverging": [
            [
             0,
             "#8e0152"
            ],
            [
             0.1,
             "#c51b7d"
            ],
            [
             0.2,
             "#de77ae"
            ],
            [
             0.3,
             "#f1b6da"
            ],
            [
             0.4,
             "#fde0ef"
            ],
            [
             0.5,
             "#f7f7f7"
            ],
            [
             0.6,
             "#e6f5d0"
            ],
            [
             0.7,
             "#b8e186"
            ],
            [
             0.8,
             "#7fbc41"
            ],
            [
             0.9,
             "#4d9221"
            ],
            [
             1,
             "#276419"
            ]
           ],
           "sequential": [
            [
             0,
             "#0d0887"
            ],
            [
             0.1111111111111111,
             "#46039f"
            ],
            [
             0.2222222222222222,
             "#7201a8"
            ],
            [
             0.3333333333333333,
             "#9c179e"
            ],
            [
             0.4444444444444444,
             "#bd3786"
            ],
            [
             0.5555555555555556,
             "#d8576b"
            ],
            [
             0.6666666666666666,
             "#ed7953"
            ],
            [
             0.7777777777777778,
             "#fb9f3a"
            ],
            [
             0.8888888888888888,
             "#fdca26"
            ],
            [
             1,
             "#f0f921"
            ]
           ],
           "sequentialminus": [
            [
             0,
             "#0d0887"
            ],
            [
             0.1111111111111111,
             "#46039f"
            ],
            [
             0.2222222222222222,
             "#7201a8"
            ],
            [
             0.3333333333333333,
             "#9c179e"
            ],
            [
             0.4444444444444444,
             "#bd3786"
            ],
            [
             0.5555555555555556,
             "#d8576b"
            ],
            [
             0.6666666666666666,
             "#ed7953"
            ],
            [
             0.7777777777777778,
             "#fb9f3a"
            ],
            [
             0.8888888888888888,
             "#fdca26"
            ],
            [
             1,
             "#f0f921"
            ]
           ]
          },
          "colorway": [
           "#636efa",
           "#EF553B",
           "#00cc96",
           "#ab63fa",
           "#FFA15A",
           "#19d3f3",
           "#FF6692",
           "#B6E880",
           "#FF97FF",
           "#FECB52"
          ],
          "font": {
           "color": "#2a3f5f"
          },
          "geo": {
           "bgcolor": "white",
           "lakecolor": "white",
           "landcolor": "#E5ECF6",
           "showlakes": true,
           "showland": true,
           "subunitcolor": "white"
          },
          "hoverlabel": {
           "align": "left"
          },
          "hovermode": "closest",
          "mapbox": {
           "style": "light"
          },
          "paper_bgcolor": "white",
          "plot_bgcolor": "#E5ECF6",
          "polar": {
           "angularaxis": {
            "gridcolor": "white",
            "linecolor": "white",
            "ticks": ""
           },
           "bgcolor": "#E5ECF6",
           "radialaxis": {
            "gridcolor": "white",
            "linecolor": "white",
            "ticks": ""
           }
          },
          "scene": {
           "xaxis": {
            "backgroundcolor": "#E5ECF6",
            "gridcolor": "white",
            "gridwidth": 2,
            "linecolor": "white",
            "showbackground": true,
            "ticks": "",
            "zerolinecolor": "white"
           },
           "yaxis": {
            "backgroundcolor": "#E5ECF6",
            "gridcolor": "white",
            "gridwidth": 2,
            "linecolor": "white",
            "showbackground": true,
            "ticks": "",
            "zerolinecolor": "white"
           },
           "zaxis": {
            "backgroundcolor": "#E5ECF6",
            "gridcolor": "white",
            "gridwidth": 2,
            "linecolor": "white",
            "showbackground": true,
            "ticks": "",
            "zerolinecolor": "white"
           }
          },
          "shapedefaults": {
           "line": {
            "color": "#2a3f5f"
           }
          },
          "ternary": {
           "aaxis": {
            "gridcolor": "white",
            "linecolor": "white",
            "ticks": ""
           },
           "baxis": {
            "gridcolor": "white",
            "linecolor": "white",
            "ticks": ""
           },
           "bgcolor": "#E5ECF6",
           "caxis": {
            "gridcolor": "white",
            "linecolor": "white",
            "ticks": ""
           }
          },
          "title": {
           "x": 0.05
          },
          "xaxis": {
           "automargin": true,
           "gridcolor": "white",
           "linecolor": "white",
           "ticks": "",
           "title": {
            "standoff": 15
           },
           "zerolinecolor": "white",
           "zerolinewidth": 2
          },
          "yaxis": {
           "automargin": true,
           "gridcolor": "white",
           "linecolor": "white",
           "ticks": "",
           "title": {
            "standoff": 15
           },
           "zerolinecolor": "white",
           "zerolinewidth": 2
          }
         }
        },
        "title": {
         "text": "Stddev (agg0) for not (readings.voltage=2.59354 AND readings.moteid=30) -- score: -0.09096651780530884 "
        },
        "xaxis": {
         "autorange": true,
         "range": [
          -82193.74638100756,
          1374593.7463810076
         ],
         "title": {
          "text": "hrint"
         },
         "type": "linear"
        },
        "yaxis": {
         "autorange": true,
         "range": [
          -0.9030056050670712,
          18.462795368604084
         ],
         "title": {
          "text": "stddev (agg0)"
         },
         "type": "linear"
        }
       }
      },
      "image/png": "[encoded data removed]",
      "text/html": [
       "<div>                            <div id=\"4045483a-d2bf-4591-acee-d1276a0cff6c\" class=\"plotly-graph-div\" style=\"height:525px; width:100%;\"></div>            <script type=\"text/javascript\">                require([\"plotly\"], function(Plotly) {                    window.PLOTLYENV=window.PLOTLYENV || {};                                    if (document.getElementById(\"4045483a-d2bf-4591-acee-d1276a0cff6c\")) {                    Plotly.newPlot(                        \"4045483a-d2bf-4591-acee-d1276a0cff6c\",                        [{\"mode\":\"markers\",\"name\":\"not (readings.voltage=2.59354 AND readings.moteid=30) -- score: -0.09096651780530884\",\"x\":[763200,766800,770400,774000,777600,781200,784800,788400,792000,795600,799200,802800,806400,810000,813600,817200,820800,824400,828000,831600,835200,838800,842400,846000,849600,853200,856800,860400,864000,867600,871200,874800,878400,882000,885600,889200,892800,896400,900000,903600,907200,910800,914400,918000,921600,925200,928800,932400,936000,939600,943200,946800,950400,954000,957600,961200,964800,968400,972000,975600,979200,982800,1098000,1101600,1105200,1108800,1112400,1116000,1119600,1123200,1126800,1130400,1134000,1137600,1141200,1144800,1148400,1152000,1155600,1159200,1162800,1166400,1170000,1173600,1177200,1180800,1184400,1188000,1191600,1195200,1198800,1202400,1206000,1209600,1213200,1216800,1220400,1224000,1227600,1231200,1234800,1238400,1242000,1245600,1249200,1252800,1256400,1260000,1263600,1267200,1270800,1274400,1278000,1281600,1285200,1288800,1292400,295200,3600,7200,10800,14400,18000,21600,25200,28800,36000,39600,43200,46800,50400,54000,57600,61200,64800,68400,72000,75600,1069200,1072800,79200,1076400,82800,1080000,86400,1083600,90000,1087200,93600,1090800,97200,1094400,100800,104400,108000,111600,115200,118800,122400,126000,129600,133200,136800,140400,144000,147600,151200,154800,158400,162000,165600,169200,172800,176400,180000,183600,187200,190800,194400,198000,201600,205200,208800,212400,216000,219600,223200,226800,230400,234000,237600,241200,244800,248400,252000,255600,259200,262800,266400,270000,273600,277200,280800,284400,288000,291600,298800,302400,306000,309600,313200,316800,320400,324000,327600,331200,334800,338400,342000,345600,349200,352800,356400,360000,363600,367200,370800,374400,378000,381600,385200,388800,392400,396000,399600,403200,406800,410400,414000,417600,421200,424800,428400,432000,435600,439200,442800,446400,450000,453600,457200,460800,464400,468000,471600,475200,478800,482400,486000,489600,493200,496800,500400,504000,507600,511200,514800,518400,522000,525600,529200,532800,536400,540000,543600,547200,550800,554400,558000,561600,565200,568800,572400,576000,579600,583200,586800,590400,594000,597600,601200,604800,608400,612000,615600,619200,622800,626400,630000,633600,637200,640800,644400,648000,651600,655200,658800,662400,666000,669600,673200,676800,680400,684000,687600,691200,694800,698400,702000,705600,709200,712800,716400,720000,723600,727200,730800,734400,738000,741600,745200,748800,752400,756000,759600,32400,0],\"y\":[0.8558774229138716,0.7957722003062584,0.7393425131140692,0.7277709605705982,0.7115503037561518,0.6836167992047172,0.688064079364441,0.709592375872606,0.7498785214858508,0.8204808712794464,0.8681371627780589,3.014468114367976,3.9794798698414287,4.471783383855965,4.208422113611067,3.174058585676625,3.1920653781562107,3.195209189954575,2.9620868191546923,2.8532172549660415,2.9095697934058773,2.897896767534213,3.112727687312347,2.8328501319658845,3.4431316200028466,4.247045472277412,4.7367966605942415,5.33690343642611,6.26627060686989,7.119352380322881,9.408164405484499,10.47149838721925,11.808747123808226,13.67832576065855,14.223084351957331,14.658480901567637,14.272048398124035,16.071194454948937,15.168926331189752,14.494715947250471,15.218898489570403,15.854349369574914,15.589038274994179,15.104080678655093,15.261951104060552,15.204364518513298,14.961637041749897,14.877069499066218,14.243520618464641,14.26884489030084,15.017617985899545,14.418110895012042,15.091307946065934,15.355015768291388,14.874167068124665,15.075881595506424,15.003148768485906,14.922406291026174,14.507002246140404,15.012557458300401,14.245908163911446,10.718299169611468,11.492402581811508,15.482284672542717,15.30700340980035,15.580569816643438,15.803217048330474,15.821439406049695,16.072484298855358,15.569602280101375,15.669419381216667,16.38399532494514,15.751624447148938,16.074519591089917,16.2916602137597,16.361653222519983,14.936664147158023,16.634111054579122,16.66655915589275,16.360778951877617,15.200833742313511,14.96319563492317,15.959230442853016,16.371297800744117,16.309451898697844,15.980324708995916,16.227235045676405,15.90090039420357,16.773233387024668,15.648707426508944,16.42309851801046,16.449547999061657,16.458636964051856,16.797924681207338,16.583049675184853,16.26214267116879,17.013955271425765,16.93997512238139,16.84310185473886,16.147246357867687,16.94097375850205,15.88665004302017,16.154219546074767,16.40813876149048,15.513444515971564,15.734259391075987,15.855793602974734,15.278325535273131,15.596239380224715,14.52254210744766,15.352240827089883,14.427888835174047,16.05726910180365,15.828693686798982,16.43830544413657,16.226680242427104,17.091051132969042,4.98695883990408,0.8290445015730488,0.902911809381293,0.9037330897585392,0.9202232877683072,0.9418881081667444,0.8826977318358833,1.1316701366243027,1.8960012905195989,2.3454496543655323,2.1336942529024365,1.8776039671010165,1.8138404833820088,1.2488005049157576,1.753637612023472,1.2787470080540757,0.519451527179741,0.5201779231957939,0.5485487933519899,0.6435685933993649,0.7761013700278673,5.93327181468542,7.492698761797676,0.7443532414669345,8.166856151305694,0.7347755438701649,8.227448104620898,0.7537599208339795,6.595024845573011,0.8003456890296383,7.33916047219881,0.7894428953211018,7.614307409371614,0.8095258113420754,8.070311958376454,0.8884900851771265,0.913763910851303,0.9210040890627981,0.8893272826612152,1.6353580487732218,1.601641814404966,1.4195778667174457,1.3796602780175617,1.102402254743113,0.9764753092944853,0.8458807478909773,0.668941040857473,0.5773870966880689,0.5846037083849158,0.5742232140722329,0.5885761824353949,0.6202746819375006,0.6263601636146396,0.7464986883987549,0.7809880523706466,0.6945598557577775,0.6675921595017712,0.7406371709684129,0.7715413004096381,0.7278308559622855,0.7957748739601161,0.8482006273926643,1.952675284509589,2.058766511529862,1.6013134022158773,1.5619072258234923,2.0429401316405134,2.4863288870038187,3.1619192941717373,3.3756397871277755,3.074183383369877,3.153523212002473,3.129483195131781,1.2827632049612048,0.653516991205816,0.7821703510537058,0.8442864702424803,0.919583235150058,0.9494562138096595,0.992747199783024,0.9170360670422486,0.886894739979173,0.9246729470339247,0.9345682776486534,0.9780287635923978,0.9850312947816744,6.446981732511107,8.694951822723027,9.738754398191315,5.153286162105681,4.172657364998516,11.266554223074108,2.3888636906282015,3.7771941843537546,1.690661215119433,1.2659539645480102,0.8962126951323383,0.6885514406906961,0.6603075758293946,0.644378718602045,0.8176349536767132,0.6429755755338583,0.6180800304392833,0.6561849725058914,0.7534049406555935,0.6942402677442062,0.7842087482092093,0.6410841136039475,0.6055668771826306,2.6148433192399883,2.8353895159694855,3.7937617403202353,4.127397835053812,4.1350303457386435,9.003276632293101,8.898252090211528,8.212492638218878,11.114570461040092,11.910108862942899,9.951027224275999,1.3558116103645323,0.7578582810266801,3.2791980921508554,1.3407426696862808,0.85962677395064,1.1389889767266275,0.9921045719280421,1.0044555859650994,0.9452085079517387,0.9242047729355459,0.9418102708013616,0.9314392931513442,0.9470187761028519,2.39865222164801,2.7247048435641807,3.775335889107591,4.157114654629559,4.55616971933642,4.674838596926064,4.5773782838280495,2.517889749442326,1.8400711352777837,1.4326301928580947,1.2494172803033523,0.7351023663495859,0.6374596157656043,0.7418805863045527,0.6996059252076476,0.6643525433670259,0.6786083250749003,0.6694258029460592,0.6002858314025017,0.6216073949378185,0.687190184636051,0.6969124177484813,0.6347614826417978,0.5689206157014879,3.0491760452369756,5.78036544841892,3.770413917793256,3.7537555289465354,2.5684454026119448,2.0655015054258934,2.4535294045263742,1.8493273282293405,1.5197497856200568,1.3504427262403849,1.1194020974763217,0.6090020330200189,0.5069987062487948,0.4753606226502226,0.4786098242254226,0.4738091960637289,0.4687386305679688,0.5238955098386072,0.5185848718614019,0.5224428361149596,0.5157064534611486,0.5251430396911599,0.5455492799190359,0.5577021529472359,0.8736001689539922,1.764016264255292,2.09064406895613,2.4038032833689376,2.584557801629398,2.5903622064266547,2.264315914370514,1.7895817788088342,1.6982203652335095,1.5801585184080553,1.6024736631515941,0.9073007462319682,0.710670365900987,0.6503135207090796,0.6421245485857179,0.6158228844793536,0.7002273122429767,0.5879676979479374,0.5933735147127119,0.6090432722276702,0.6243095733188201,0.6472432624771668,0.6670590907692572,0.6683809970374475,0.9807469678039248,1.8010019865267064,2.3362704860284658,2.5547581625306353,2.70116876159246,2.771526931257832,2.55674785467221,2.2245194949673714,2.1107732100138095,2.272468409564265,2.035517886294024,1.2274122758164643,0.9513739273459721,2.3329260205306284,3.5146809915121415],\"type\":\"scatter\"}],                        {\"template\":{\"data\":{\"histogram2dcontour\":[{\"type\":\"histogram2dcontour\",\"colorbar\":{\"outlinewidth\":0,\"ticks\":\"\"},\"colorscale\":[[0.0,\"#0d0887\"],[0.1111111111111111,\"#46039f\"],[0.2222222222222222,\"#7201a8\"],[0.3333333333333333,\"#9c179e\"],[0.4444444444444444,\"#bd3786\"],[0.5555555555555556,\"#d8576b\"],[0.6666666666666666,\"#ed7953\"],[0.7777777777777778,\"#fb9f3a\"],[0.8888888888888888,\"#fdca26\"],[1.0,\"#f0f921\"]]}],\"choropleth\":[{\"type\":\"choropleth\",\"colorbar\":{\"outlinewidth\":0,\"ticks\":\"\"}}],\"histogram2d\":[{\"type\":\"histogram2d\",\"colorbar\":{\"outlinewidth\":0,\"ticks\":\"\"},\"colorscale\":[[0.0,\"#0d0887\"],[0.1111111111111111,\"#46039f\"],[0.2222222222222222,\"#7201a8\"],[0.3333333333333333,\"#9c179e\"],[0.4444444444444444,\"#bd3786\"],[0.5555555555555556,\"#d8576b\"],[0.6666666666666666,\"#ed7953\"],[0.7777777777777778,\"#fb9f3a\"],[0.8888888888888888,\"#fdca26\"],[1.0,\"#f0f921\"]]}],\"heatmap\":[{\"type\":\"heatmap\",\"colorbar\":{\"outlinewidth\":0,\"ticks\":\"\"},\"colorscale\":[[0.0,\"#0d0887\"],[0.1111111111111111,\"#46039f\"],[0.2222222222222222,\"#7201a8\"],[0.3333333333333333,\"#9c179e\"],[0.4444444444444444,\"#bd3786\"],[0.5555555555555556,\"#d8576b\"],[0.6666666666666666,\"#ed7953\"],[0.7777777777777778,\"#fb9f3a\"],[0.8888888888888888,\"#fdca26\"],[1.0,\"#f0f921\"]]}],\"heatmapgl\":[{\"type\":\"heatmapgl\",\"colorbar\":{\"outlinewidth\":0,\"ticks\":\"\"},\"colorscale\":[[0.0,\"#0d0887\"],[0.1111111111111111,\"#46039f\"],[0.2222222222222222,\"#7201a8\"],[0.3333333333333333,\"#9c179e\"],[0.4444444444444444,\"#bd3786\"],[0.5555555555555556,\"#d8576b\"],[0.6666666666666666,\"#ed7953\"],[0.7777777777777778,\"#fb9f3a\"],[0.8888888888888888,\"#fdca26\"],[1.0,\"#f0f921\"]]}],\"contourcarpet\":[{\"type\":\"contourcarpet\",\"colorbar\":{\"outlinewidth\":0,\"ticks\":\"\"}}],\"contour\":[{\"type\":\"contour\",\"colorbar\":{\"outlinewidth\":0,\"ticks\":\"\"},\"colorscale\":[[0.0,\"#0d0887\"],[0.1111111111111111,\"#46039f\"],[0.2222222222222222,\"#7201a8\"],[0.3333333333333333,\"#9c179e\"],[0.4444444444444444,\"#bd3786\"],[0.5555555555555556,\"#d8576b\"],[0.6666666666666666,\"#ed7953\"],[0.7777777777777778,\"#fb9f3a\"],[0.8888888888888888,\"#fdca26\"],[1.0,\"#f0f921\"]]}],\"surface\":[{\"type\":\"surface\",\"colorbar\":{\"outlinewidth\":0,\"ticks\":\"\"},\"colorscale\":[[0.0,\"#0d0887\"],[0.1111111111111111,\"#46039f\"],[0.2222222222222222,\"#7201a8\"],[0.3333333333333333,\"#9c179e\"],[0.4444444444444444,\"#bd3786\"],[0.5555555555555556,\"#d8576b\"],[0.6666666666666666,\"#ed7953\"],[0.7777777777777778,\"#fb9f3a\"],[0.8888888888888888,\"#fdca26\"],[1.0,\"#f0f921\"]]}],\"mesh3d\":[{\"type\":\"mesh3d\",\"colorbar\":{\"outlinewidth\":0,\"ticks\":\"\"}}],\"scatter\":[{\"fillpattern\":{\"fillmode\":\"overlay\",\"size\":10,\"solidity\":0.2},\"type\":\"scatter\"}],\"parcoords\":[{\"type\":\"parcoords\",\"line\":{\"colorbar\":{\"outlinewidth\":0,\"ticks\":\"\"}}}],\"scatterpolargl\":[{\"type\":\"scatterpolargl\",\"marker\":{\"colorbar\":{\"outlinewidth\":0,\"ticks\":\"\"}}}],\"bar\":[{\"error_x\":{\"color\":\"#2a3f5f\"},\"error_y\":{\"color\":\"#2a3f5f\"},\"marker\":{\"line\":{\"color\":\"#E5ECF6\",\"width\":0.5},\"pattern\":{\"fillmode\":\"overlay\",\"size\":10,\"solidity\":0.2}},\"type\":\"bar\"}],\"scattergeo\":[{\"type\":\"scattergeo\",\"marker\":{\"colorbar\":{\"outlinewidth\":0,\"ticks\":\"\"}}}],\"scatterpolar\":[{\"type\":\"scatterpolar\",\"marker\":{\"colorbar\":{\"outlinewidth\":0,\"ticks\":\"\"}}}],\"histogram\":[{\"marker\":{\"pattern\":{\"fillmode\":\"overlay\",\"size\":10,\"solidity\":0.2}},\"type\":\"histogram\"}],\"scattergl\":[{\"type\":\"scattergl\",\"marker\":{\"colorbar\":{\"outlinewidth\":0,\"ticks\":\"\"}}}],\"scatter3d\":[{\"type\":\"scatter3d\",\"line\":{\"colorbar\":{\"outlinewidth\":0,\"ticks\":\"\"}},\"marker\":{\"colorbar\":{\"outlinewidth\":0,\"ticks\":\"\"}}}],\"scattermapbox\":[{\"type\":\"scattermapbox\",\"marker\":{\"colorbar\":{\"outlinewidth\":0,\"ticks\":\"\"}}}],\"scatterternary\":[{\"type\":\"scatterternary\",\"marker\":{\"colorbar\":{\"outlinewidth\":0,\"ticks\":\"\"}}}],\"scattercarpet\":[{\"type\":\"scattercarpet\",\"marker\":{\"colorbar\":{\"outlinewidth\":0,\"ticks\":\"\"}}}],\"carpet\":[{\"aaxis\":{\"endlinecolor\":\"#2a3f5f\",\"gridcolor\":\"white\",\"linecolor\":\"white\",\"minorgridcolor\":\"white\",\"startlinecolor\":\"#2a3f5f\"},\"baxis\":{\"endlinecolor\":\"#2a3f5f\",\"gridcolor\":\"white\",\"linecolor\":\"white\",\"minorgridcolor\":\"white\",\"startlinecolor\":\"#2a3f5f\"},\"type\":\"carpet\"}],\"table\":[{\"cells\":{\"fill\":{\"color\":\"#EBF0F8\"},\"line\":{\"color\":\"white\"}},\"header\":{\"fill\":{\"color\":\"#C8D4E3\"},\"line\":{\"color\":\"white\"}},\"type\":\"table\"}],\"barpolar\":[{\"marker\":{\"line\":{\"color\":\"#E5ECF6\",\"width\":0.5},\"pattern\":{\"fillmode\":\"overlay\",\"size\":10,\"solidity\":0.2}},\"type\":\"barpolar\"}],\"pie\":[{\"automargin\":true,\"type\":\"pie\"}]},\"layout\":{\"autotypenumbers\":\"strict\",\"colorway\":[\"#636efa\",\"#EF553B\",\"#00cc96\",\"#ab63fa\",\"#FFA15A\",\"#19d3f3\",\"#FF6692\",\"#B6E880\",\"#FF97FF\",\"#FECB52\"],\"font\":{\"color\":\"#2a3f5f\"},\"hovermode\":\"closest\",\"hoverlabel\":{\"align\":\"left\"},\"paper_bgcolor\":\"white\",\"plot_bgcolor\":\"#E5ECF6\",\"polar\":{\"bgcolor\":\"#E5ECF6\",\"angularaxis\":{\"gridcolor\":\"white\",\"linecolor\":\"white\",\"ticks\":\"\"},\"radialaxis\":{\"gridcolor\":\"white\",\"linecolor\":\"white\",\"ticks\":\"\"}},\"ternary\":{\"bgcolor\":\"#E5ECF6\",\"aaxis\":{\"gridcolor\":\"white\",\"linecolor\":\"white\",\"ticks\":\"\"},\"baxis\":{\"gridcolor\":\"white\",\"linecolor\":\"white\",\"ticks\":\"\"},\"caxis\":{\"gridcolor\":\"white\",\"linecolor\":\"white\",\"ticks\":\"\"}},\"coloraxis\":{\"colorbar\":{\"outlinewidth\":0,\"ticks\":\"\"}},\"colorscale\":{\"sequential\":[[0.0,\"#0d0887\"],[0.1111111111111111,\"#46039f\"],[0.2222222222222222,\"#7201a8\"],[0.3333333333333333,\"#9c179e\"],[0.4444444444444444,\"#bd3786\"],[0.5555555555555556,\"#d8576b\"],[0.6666666666666666,\"#ed7953\"],[0.7777777777777778,\"#fb9f3a\"],[0.8888888888888888,\"#fdca26\"],[1.0,\"#f0f921\"]],\"sequentialminus\":[[0.0,\"#0d0887\"],[0.1111111111111111,\"#46039f\"],[0.2222222222222222,\"#7201a8\"],[0.3333333333333333,\"#9c179e\"],[0.4444444444444444,\"#bd3786\"],[0.5555555555555556,\"#d8576b\"],[0.6666666666666666,\"#ed7953\"],[0.7777777777777778,\"#fb9f3a\"],[0.8888888888888888,\"#fdca26\"],[1.0,\"#f0f921\"]],\"diverging\":[[0,\"#8e0152\"],[0.1,\"#c51b7d\"],[0.2,\"#de77ae\"],[0.3,\"#f1b6da\"],[0.4,\"#fde0ef\"],[0.5,\"#f7f7f7\"],[0.6,\"#e6f5d0\"],[0.7,\"#b8e186\"],[0.8,\"#7fbc41\"],[0.9,\"#4d9221\"],[1,\"#276419\"]]},\"xaxis\":{\"gridcolor\":\"white\",\"linecolor\":\"white\",\"ticks\":\"\",\"title\":{\"standoff\":15},\"zerolinecolor\":\"white\",\"automargin\":true,\"zerolinewidth\":2},\"yaxis\":{\"gridcolor\":\"white\",\"linecolor\":\"white\",\"ticks\":\"\",\"title\":{\"standoff\":15},\"zerolinecolor\":\"white\",\"automargin\":true,\"zerolinewidth\":2},\"scene\":{\"xaxis\":{\"backgroundcolor\":\"#E5ECF6\",\"gridcolor\":\"white\",\"linecolor\":\"white\",\"showbackground\":true,\"ticks\":\"\",\"zerolinecolor\":\"white\",\"gridwidth\":2},\"yaxis\":{\"backgroundcolor\":\"#E5ECF6\",\"gridcolor\":\"white\",\"linecolor\":\"white\",\"showbackground\":true,\"ticks\":\"\",\"zerolinecolor\":\"white\",\"gridwidth\":2},\"zaxis\":{\"backgroundcolor\":\"#E5ECF6\",\"gridcolor\":\"white\",\"linecolor\":\"white\",\"showbackground\":true,\"ticks\":\"\",\"zerolinecolor\":\"white\",\"gridwidth\":2}},\"shapedefaults\":{\"line\":{\"color\":\"#2a3f5f\"}},\"annotationdefaults\":{\"arrowcolor\":\"#2a3f5f\",\"arrowhead\":0,\"arrowwidth\":1},\"geo\":{\"bgcolor\":\"white\",\"landcolor\":\"#E5ECF6\",\"subunitcolor\":\"white\",\"showland\":true,\"showlakes\":true,\"lakecolor\":\"white\"},\"title\":{\"x\":0.05},\"mapbox\":{\"style\":\"light\"}}},\"title\":{\"text\":\"Stddev (agg0) for not (readings.voltage=2.59354 AND readings.moteid=30) -- score: -0.09096651780530884 \"},\"xaxis\":{\"title\":{\"text\":\"hrint\"}},\"yaxis\":{\"title\":{\"text\":\"stddev (agg0)\"}}},                        {\"responsive\": true}                    ).then(function(){\n",
       "                            \n",
       "var gd = document.getElementById('4045483a-d2bf-4591-acee-d1276a0cff6c');\n",
       "var x = new MutationObserver(function (mutations, observer) {{\n",
       "        var display = window.getComputedStyle(gd).display;\n",
       "        if (!display || display === 'none') {{\n",
       "            console.log([gd, 'removed!']);\n",
       "            Plotly.purge(gd);\n",
       "            observer.disconnect();\n",
       "        }}\n",
       "}});\n",
       "\n",
       "// Listen for the removal of the full notebook cells\n",
       "var notebookContainer = gd.closest('#notebook-container');\n",
       "if (notebookContainer) {{\n",
       "    x.observe(notebookContainer, {childList: true});\n",
       "}}\n",
       "\n",
       "// Listen for the clearing of the current output cell\n",
       "var outputEl = gd.closest('.output');\n",
       "if (outputEl) {{\n",
       "    x.observe(outputEl, {childList: true});\n",
       "}}\n",
       "\n",
       "                        })                };                });            </script>        </div>"
      ]
     },
     "metadata": {},
     "output_type": "display_data"
    }
   ],
   "source": [
    "################################\n",
    "# Step 8 replot\n",
    "################################\n",
    "def plot_stddev_for_predicates(select_clause, gb_clause, predicates):\n",
    "    # Create a figure with one subplot per predicate\n",
    "    figs = []\n",
    "    for v in predicates:\n",
    "        p = ' AND '.join(v['clauses'])\n",
    "        filtered_df = con.execute(select_clause + f\" where not ({p})\" + gb_clause).df() \n",
    "        name = f\"not ({p}) -- score: {v['score']}\"\n",
    "        if filtered_df.empty:\n",
    "            print(f\"{name}: No data matched.\")\n",
    "            continue\n",
    "        \n",
    "        # Here we plot stddev values for the subset - you can customize plot type\n",
    "        fig = go.Figure()\n",
    "        fig.add_trace(go.Scatter(\n",
    "            x=filtered_df['hrint'],\n",
    "            y=filtered_df['agg0'],  # stddev values\n",
    "            mode='markers',\n",
    "            name=name\n",
    "        ))\n",
    "        fig.update_layout(title=f\"Stddev (agg0) for {name} \", xaxis_title=\"hrint\", yaxis_title=\"stddev (agg0)\")\n",
    "        figs.append(fig)\n",
    "    \n",
    "    # Display all figures sequentially\n",
    "    for fig in figs:\n",
    "        display(fig)\n",
    "\n",
    "# Example usage\n",
    "select_clause =  \"SELECT hrint, stddev(temp) as agg0, avg(temp) as agg1  FROM readings AS readings \"\n",
    "gb_clause =  \" GROUP BY hrint\"\n",
    "\n",
    "plot_stddev_for_predicates(select_clause, gb_clause, results)\n"
   ]
  },
  {
   "cell_type": "code",
   "execution_count": null,
   "id": "3d3222c8-aa36-4358-a667-5c67b088fef7",
   "metadata": {},
   "outputs": [],
   "source": []
  }
 ],
 "metadata": {
  "kernelspec": {
   "display_name": "Python (venv)",
   "language": "python",
   "name": "venv"
  },
  "language_info": {
   "codemirror_mode": {
    "name": "ipython",
    "version": 3
   },
   "file_extension": ".py",
   "mimetype": "text/x-python",
   "name": "python",
   "nbconvert_exporter": "python",
   "pygments_lexer": "ipython3",
   "version": "3.12.4"
  }
 },
 "nbformat": 4,
 "nbformat_minor": 5
}
